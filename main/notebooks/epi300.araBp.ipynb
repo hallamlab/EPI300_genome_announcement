{
 "cells": [
  {
   "cell_type": "code",
   "execution_count": 1,
   "id": "ff4d6a9d",
   "metadata": {},
   "outputs": [],
   "source": [
    "import os\n",
    "from pathlib import Path\n",
    "import numpy as np\n",
    "from Bio import SeqIO, Align\n",
    "from Bio.Seq import Seq\n",
    "\n",
    "from local.constants import WORKSPACE_ROOT\n",
    "from local.caching import load, save\n",
    "CACHE = Path(\"./cache\")"
   ]
  },
  {
   "cell_type": "code",
   "execution_count": 2,
   "id": "b6335c4c",
   "metadata": {},
   "outputs": [
    {
     "name": "stdout",
     "output_type": "stream",
     "text": [
      "trfA ATGAATCGGACGTTTGACCGGAAGGCATACAGGCAAGAACTGATCGACGCGGGGTTTTCCGCCGAGGATGCCGAAACCATCGCAAGCCGCACCGTCATGCGTGCGCCCCGCGAAACCTTCCAGTCCGTCGGCTCGATGGTCCAGCAAGCTACGGCCAAGATCGAGCGCGACAGCGTGCAACTGGCTCCCCCTGCCCTGCCCGCGCCATCGGCCGCCGTGGAGCGTTCGCGTCGTCTCGAGCAGGAGGCGGCAGGTTTGGCGAAGTCGATGACCATCGACACGCGAGGAACTATGACGACCAAGAAGCGAAAAACCGCCGGCGAGGGCCTGGCAAAACAGGTCAGCGAGGCCAAGCAGGCCGCGTTGCTGAAACACACGAAGCAGCAGATCAAGGAAATGCAGCTTTCCTTGTTCGATATTGCGCCGTGGCCGGACACGATGCGAGCGATGCCAAACGACACGGCCCGCTCTGCCCTGTTCACCACGCGCAACAAGAAAATCCCGCGCGAGGCGCTGCAAAACAAGGTCATTTTCCACGTCAACAAGGACGTGAAGATCACCTACACCGGCGTCGAGCTGCGGGCCGACGATGACGAACTGGTGTGGCAGCAGGTGTTGGAGTACGCGAAGCGCACCCCTATCGGCGAGCCGATCACCTTCACGTTCTACGAGCTTTGCCAGGACCTGGGCTGGTCGATCAATGGCCGGTATTACACGAAGGCCGAGGAATGCCTGTCGCGCCTACAGGCGACGGCGATGGACTTCACGTCCGACCGCGTTGGGCACCTGGAATCGGTGTCGCTGCTGCACCGCTTCCGCGTCCTGGACCGTGGCAAGAAAACGTCCCGTTGCCAGGTCCTGATCGACGAGGAAATCGTCGTGCTGTTTGCTGGCGACCACTACACGAAATTCATATGGGAGAAGTACCGCAAGCTGTCGCCGACGGCCCGACGGATGTTCGACTATTTCAGCTCGCACCGGGAGCCGTACCCGCTCAAGCTGGAAACCTTCCGCCTCATGTGCGGATCGGATTCCACCCGCGTGAAGAAGTGGCGCGAGCAGGTCGGCGAAGCCTGCGAAGAGTTGCGAGGCAGCGGCCTGGTGGAACACGCCTGGGTCAATGATGACCTGGTGCATTGCAAACGCTAG\n"
     ]
    }
   ],
   "source": [
    "contigs = []\n",
    "\n",
    "def get_key(e):\n",
    "    _q = e.qualifiers\n",
    "    key = None\n",
    "    for k in [\"gene\", \"product\"]:\n",
    "        if k in _q:\n",
    "            key = _q[k][0]\n",
    "            break\n",
    "    assert key is not None\n",
    "    return key\n",
    "\n",
    "for g in SeqIO.parse(f\"{WORKSPACE_ROOT}/data/ecoli/reference_genomes/EPI300/epi300.pgap.gb\", \"genbank\"):\n",
    "    for e in g.features:\n",
    "        if e.type != \"CDS\": continue\n",
    "        k = get_key(e)\n",
    "        # if k != \"araC\": continue\n",
    "        if k != \"trfA\": continue\n",
    "        seq = e.extract(g.seq)\n",
    "        loc = e.location\n",
    "        print(k, seq)\n",
    "        break"
   ]
  },
  {
   "cell_type": "code",
   "execution_count": 17,
   "id": "419a847a",
   "metadata": {},
   "outputs": [
    {
     "data": {
      "text/plain": [
       "Seq('MNRTFDRKAYRQELIDAGFSAEDAETIASRTVMRAPRETFQSVGSMVQQATAKI...CKR')"
      ]
     },
     "execution_count": 17,
     "metadata": {},
     "output_type": "execute_result"
    }
   ],
   "source": [
    "trfa = \"\"\"\n",
    ">sp|P07676|TRFA_ECOLX Plasmid replication initiator protein TrfA OS=Escherichia coli OX=562 GN=trfA PE=1 SV=1\n",
    "MNRTFDRKAYRQELIDAGFSAEDAETIASRTVMRAPRETFQSVGSMVQQATAKIERDSVQ\n",
    "LAPPALPAPSAAVERSRRLEQEAAGLAKSMTIDTRGTMTTKKRKTAGEDLAKQVSEAKQA\n",
    "ALLKHTKQQIKEMQLSLFDIAPWPDTMRAMPNDTARSALFTTRNKKIPREALQNKVIFHV\n",
    "NKDVKITYTGVELRADDDELVWQQVLEYAKRTPIGEPITFTFYELCQDLGWSINGRYYTK\n",
    "AEECLSRLQATAMGFTSDRVGHLESVSLLHRFRVLDRGKKTSRCQVLIDEEIVVLFAGDH\n",
    "YTKFIWEKYRKLSPTARRMFDYFSSHREPYPLKLETFRLMCGSDSTRVKKWREQVGEACE\n",
    "ELRGSGLVEHAWVNDDLVHCKR\n",
    "\"\"\"\n",
    "trfa = Seq(''.join([l for l in trfa.splitlines() if l and l[0] != \">\"]))\n",
    "trfa"
   ]
  },
  {
   "cell_type": "code",
   "execution_count": null,
   "id": "284ae6b9",
   "metadata": {},
   "outputs": [],
   "source": [
    "epi300 = np.array([c for c in seq.translate()])\n",
    "ref = np.array([c for c in trfa])"
   ]
  },
  {
   "cell_type": "code",
   "execution_count": 21,
   "id": "38b6de51",
   "metadata": {},
   "outputs": [
    {
     "name": "stdout",
     "output_type": "stream",
     "text": [
      "MNRTFDRKAYRQELIDAGFSAEDAETIASRTVMRAPRETFQSVGSMVQQATAKIERDSVQLAPPALPAPSAAVERSRRLEQEAAGLAKSMTIDTRGTMTTKKRKTAGEGLAKQVSEAKQAALLKHTKQQIKEMQLSLFDIAPWPDTMRAMPNDTARSALFTTRNKKIPREALQNKVIFHVNKDVKITYTGVELRADDDELVWQQVLEYAKRTPIGEPITFTFYELCQDLGWSINGRYYTKAEECLSRLQATAMDFTSDRVGHLESVSLLHRFRVLDRGKKTSRCQVLIDEEIVVLFAGDHYTKFIWEKYRKLSPTARRMFDYFSSHREPYPLKLETFRLMCGSDSTRVKKWREQVGEACEELRGSGLVEHAWVNDDLVHCKR*\n",
      "MNRTFDRKAYRQELIDAGFSAEDAETIASRTVMRAPRETFQSVGSMVQQATAKIERDSVQLAPPALPAPSAAVERSRRLEQEAAGLAKSMTIDTRGTMTTKKRKTAGEDLAKQVSEAKQAALLKHTKQQIKEMQLSLFDIAPWPDTMRAMPNDTARSALFTTRNKKIPREALQNKVIFHVNKDVKITYTGVELRADDDELVWQQVLEYAKRTPIGEPITFTFYELCQDLGWSINGRYYTKAEECLSRLQATAMGFTSDRVGHLESVSLLHRFRVLDRGKKTSRCQVLIDEEIVVLFAGDHYTKFIWEKYRKLSPTARRMFDYFSSHREPYPLKLETFRLMCGSDSTRVKKWREQVGEACEELRGSGLVEHAWVNDDLVHCKR\n",
      "-----------------------------------------------------------------------------------------------------------------------------------------------------------------------------------------------------------\n"
     ]
    }
   ],
   "source": [
    "print(seq.translate())\n",
    "print(trfa)\n",
    "# print(\"-\"*59)\n",
    "print(\"-\"*203)"
   ]
  },
  {
   "cell_type": "code",
   "execution_count": null,
   "id": "cbeaeac3",
   "metadata": {},
   "outputs": [
    {
     "data": {
      "text/plain": [
       "81"
      ]
     },
     "execution_count": 121,
     "metadata": {},
     "output_type": "execute_result"
    }
   ],
   "source": [
    "# PPD-Prokaryotic Promoter Database\n",
    "# http://lin-group.cn/database/ppd/browse.php?table=promoters&id=48104\n",
    "araBp = \"ccataagattagcggatcctacctgacgctttttatcgcaactctctactgtttctccatAcccgtttttttggatggagt\".upper()"
   ]
  },
  {
   "cell_type": "code",
   "execution_count": null,
   "id": "5f3fb7fc",
   "metadata": {},
   "outputs": [],
   "source": [
    "ws = Path(\"./cache/araBp\")\n",
    "# with open(ws/\"s.fa\", \"w\") as f:\n",
    "#     f.write(\">epi300\\n\")\n",
    "#     f.write(str(g.seq))"
   ]
  },
  {
   "cell_type": "code",
   "execution_count": 203,
   "id": "9ee46cb2",
   "metadata": {},
   "outputs": [
    {
     "name": "stdout",
     "output_type": "stream",
     "text": [
      "araBp\tepi300\t98.765\t81\t1\t0\t1\t81\t3390306\t3390386\t5.84e-36\t145\n"
     ]
    }
   ],
   "source": [
    "os.system(f\"\"\"\\\n",
    "    cd {ws}\n",
    "    # makeblastdb -in s.fa \\\n",
    "    #     -dbtype nucl \\\n",
    "    #     -out ./db/s\n",
    "    # echo \">araBp\" >q.fa\n",
    "    # echo \"{araBp}\">>q.fa\n",
    "    blastn -query ./q.fa -db ./db/s -out ./araBp.out -outfmt 6\n",
    "    cat araBp.out\n",
    "\"\"\")\n",
    "with open(ws/\"./araBp.out\") as f:\n",
    "    toks = f.readline().split(\"\\t\")\n",
    "    ara_start = int(toks[8])-1\n",
    "    # print(toks[8], toks[9])"
   ]
  },
  {
   "cell_type": "code",
   "execution_count": 192,
   "id": "a63450bf",
   "metadata": {},
   "outputs": [
    {
     "data": {
      "text/plain": [
       "(ExactPosition(3390442), ExactPosition(3391591))"
      ]
     },
     "execution_count": 192,
     "metadata": {},
     "output_type": "execute_result"
    }
   ],
   "source": [
    "loc.start,loc.end"
   ]
  },
  {
   "cell_type": "code",
   "execution_count": 230,
   "id": "b3c76057",
   "metadata": {},
   "outputs": [
    {
     "name": "stdout",
     "output_type": "stream",
     "text": [
      "True\n",
      "-137 6\n",
      "CCATAAGATTAGCGGATCCTACCTGACGCCTTTTATCGCAACTCTCTACTGTTTCTCCATACCCGTTTTTTTGGATGGAGTGAAAGGAGGAATTCACCATGGCTCTAAATTCCGGGGCAATCCCGCAAGGAGGGTGAATGAAT\n",
      "CCATAAGATTAGCGGATCCTACCTGACGCTTTTTATCGCAACTCTCTACTGTTTCTCCATACCCGTTTTTTTGGATGGAGT\n",
      "                             *           |-35                     |-10      |+1     |RBS                                                 |START\n"
     ]
    }
   ],
   "source": [
    "test = g.seq[loc.start:loc.end]\n",
    "print(test == seq)\n",
    "start, end = ara_start-loc.start, 6\n",
    "print(start, end)\n",
    "# start, end = -len(araBp)+3, 3\n",
    "upstream = g.seq[loc.start+start:loc.start+end]\n",
    "# upstream = g.seq[loc.end-end:3390386].reverse_complement()\n",
    "print(upstream)\n",
    "markers = np.zeros(end-start, dtype=\"U1\")\n",
    "markers.fill(\" \")\n",
    "def mark(i, s):\n",
    "    i -= start\n",
    "    markers[i:i+len(s)] = [c for c in s]\n",
    "mark(0, \"|START\")\n",
    "plus1 = -61\n",
    "# mark(start, \"-35, -10, +1 are guesses >>>\")\n",
    "mark(plus1, \"|+1\")\n",
    "mark(plus1-10, \"|-10\")\n",
    "mark(plus1-35, \"|-35\")\n",
    "mark(-53, \"|RBS\")\n",
    "mark(plus1-47, \"*\")\n",
    "# mark(start, f\"|{start}\")\n",
    "# p = start+len(araBp)-1\n",
    "# mark(p, f\"|{p}\")\n",
    "print(Seq(araBp))\n",
    "print(\"\".join(markers))"
   ]
  },
  {
   "cell_type": "code",
   "execution_count": null,
   "id": "21be9b3a",
   "metadata": {},
   "outputs": [
    {
     "name": "stdout",
     "output_type": "stream",
     "text": [
      "False\n",
      "\n"
     ]
    },
    {
     "ename": "ValueError",
     "evalue": "negative dimensions are not allowed",
     "output_type": "error",
     "traceback": [
      "\u001b[31m---------------------------------------------------------------------------\u001b[39m",
      "\u001b[31mValueError\u001b[39m                                Traceback (most recent call last)",
      "\u001b[36mCell\u001b[39m\u001b[36m \u001b[39m\u001b[32mIn[183]\u001b[39m\u001b[32m, line 8\u001b[39m\n\u001b[32m      6\u001b[39m \u001b[38;5;66;03m# upstream = g.seq[loc.end-end:3390386].reverse_complement()\u001b[39;00m\n\u001b[32m      7\u001b[39m \u001b[38;5;28mprint\u001b[39m(upstream)\n\u001b[32m----> \u001b[39m\u001b[32m8\u001b[39m markers = \u001b[43mnp\u001b[49m\u001b[43m.\u001b[49m\u001b[43mzeros\u001b[49m\u001b[43m(\u001b[49m\u001b[43mend\u001b[49m\u001b[43m-\u001b[49m\u001b[43mstart\u001b[49m\u001b[43m,\u001b[49m\u001b[43m \u001b[49m\u001b[43mdtype\u001b[49m\u001b[43m=\u001b[49m\u001b[33;43m\"\u001b[39;49m\u001b[33;43mU1\u001b[39;49m\u001b[33;43m\"\u001b[39;49m\u001b[43m)\u001b[49m\n\u001b[32m      9\u001b[39m markers.fill(\u001b[33m\"\u001b[39m\u001b[33m \u001b[39m\u001b[33m\"\u001b[39m)\n\u001b[32m     10\u001b[39m \u001b[38;5;28;01mdef\u001b[39;00m\u001b[38;5;250m \u001b[39m\u001b[34mmark\u001b[39m(i, s):\n",
      "\u001b[31mValueError\u001b[39m: negative dimensions are not allowed"
     ]
    }
   ],
   "source": [
    "# test = g.seq[loc.start:loc.end].reverse_complement()\n",
    "# print(test == seq)\n",
    "# start, end = loc.end-3390386, 6\n",
    "# # start, end = -len(araBp)+3, 3\n",
    "# upstream = g.seq[loc.end-end:loc.end-start].reverse_complement()\n",
    "# # upstream = g.seq[loc.end-end:3390386].reverse_complement()\n",
    "# print(upstream)\n",
    "# markers = np.zeros(end-start, dtype=\"U1\")\n",
    "# markers.fill(\" \")\n",
    "# def mark(i, s):\n",
    "#     i -= start\n",
    "#     markers[i:i+len(s)] = [c for c in s]\n",
    "# mark(0, \"|+1\")\n",
    "# mark(-10, \"|-10\")\n",
    "# mark(-35, \"|-35\")\n",
    "# mark(start, f\"|{start}\")\n",
    "# p = start+len(araBp)-1\n",
    "# mark(p, f\"|{p}\")\n",
    "# print(Seq(araBp).reverse_complement())\n",
    "# print(\"\".join(markers))"
   ]
  }
 ],
 "metadata": {
  "kernelspec": {
   "display_name": "bio",
   "language": "python",
   "name": "python3"
  },
  "language_info": {
   "codemirror_mode": {
    "name": "ipython",
    "version": 3
   },
   "file_extension": ".py",
   "mimetype": "text/x-python",
   "name": "python",
   "nbconvert_exporter": "python",
   "pygments_lexer": "ipython3",
   "version": "3.12.10"
  }
 },
 "nbformat": 4,
 "nbformat_minor": 5
}
