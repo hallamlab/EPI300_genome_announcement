{
 "cells": [
  {
   "cell_type": "code",
   "execution_count": null,
   "metadata": {},
   "outputs": [],
   "source": [
    "import pandas as pd"
   ]
  },
  {
   "cell_type": "code",
   "execution_count": null,
   "metadata": {},
   "outputs": [],
   "source": [
    "df = pd.read_csv(\"./gene_presence_absence.Rtab\", sep=\"\\t\")\n",
    "m = df.to_numpy()[:, 1:]\n",
    "singles = m.sum(axis=1) == 1\n",
    "o157 = m[:, -2]>0\n",
    "(singles&o157).sum()"
   ]
  },
  {
   "cell_type": "code",
   "execution_count": null,
   "metadata": {},
   "outputs": [],
   "source": [
    "df.columns\n"
   ]
  },
  {
   "cell_type": "code",
   "execution_count": null,
   "metadata": {},
   "outputs": [],
   "source": [
    "# df = pd.read_csv(\"./matrix.old.csv\")\n",
    "df = pd.read_csv(\"./matrix.csv\")\n",
    "c = {}\n",
    "e = []\n",
    "for _, row in df.iterrows():\n",
    "    # epi = row[\"epi300\"]\n",
    "    # dh10b = row[\"DH10B\"]\n",
    "    # a = pd.isna(epi)\n",
    "    # b = pd.isna(dh10b)\n",
    "    # assert a == b, (row)\n",
    "\n",
    "    prevalence = row[\"Non-unique Gene name\"]\n",
    "    c[prevalence] = c.get(prevalence, 0) + 1\n",
    "    o157 = row[\"O157\"]\n",
    "    if not pd.isna(o157) and prevalence == \"shell\":\n",
    "        e.append(row)\n",
    "len(e)"
   ]
  },
  {
   "cell_type": "code",
   "execution_count": null,
   "metadata": {},
   "outputs": [],
   "source": [
    "[x.Gene for x in e]\n"
   ]
  }
 ],
 "metadata": {
  "language_info": {
   "name": "python"
  }
 },
 "nbformat": 4,
 "nbformat_minor": 2
}
