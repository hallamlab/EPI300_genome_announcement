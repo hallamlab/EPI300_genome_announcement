{
 "cells": [
  {
   "cell_type": "code",
   "execution_count": 22,
   "metadata": {},
   "outputs": [],
   "source": [
    "from Bio import SeqIO\n",
    "import re\n",
    "import pandas as pd\n",
    "import os\n",
    "from pathlib import Path\n",
    "from dataclasses import dataclass\n",
    "\n",
    "from local.constants import WORKSPACE_ROOT\n",
    "from local.caching import load, save\n",
    "ws = Path(\"./cache/epi300_genotype\")\n",
    "ws.mkdir(exist_ok=True)"
   ]
  },
  {
   "cell_type": "code",
   "execution_count": 2,
   "metadata": {},
   "outputs": [
    {
     "name": "stdout",
     "output_type": "stream",
     "text": [
      "type: rep_origin\n",
      "location: [3925743:3925975](+)\n",
      "qualifiers:\n",
      "    Key: note, Value: ['oriC']\n",
      "\n",
      "GATCTATTTATTTAGAGATCTGTTCTATTGTGATCTCTTATTAGGATCGCACTGCCCTGTGGATAACAAGGATCCGGCTTTTAAGATCAACAACCTGGAAAGGATCATTAACTGTGAATGATCGGTGATCCTGGACCGTATAAGCTGGGATCAGAATGAGGGGTTATACACAACTCAAAAACTGAACAACAGTTGTTCTTTGGATAACTACCGGTTGATCCAAGCTTCCTGA\n"
     ]
    }
   ],
   "source": [
    "k12_gb_path = WORKSPACE_ROOT/\"data/references/reference_genomes/k12mg1655/k12mg1655.gb\"\n",
    "k12_ref_path = WORKSPACE_ROOT/\"data/references/reference_genomes/k12mg1655/k12mg1655.fna\"\n",
    "for e in SeqIO.parse(k12_gb_path, \"genbank\"):\n",
    "    for feature in e.features:\n",
    "        if feature.type != \"rep_origin\": continue\n",
    "        print(feature)\n",
    "        oriC = str(feature.extract(e.seq))\n",
    "        print(oriC)"
   ]
  },
  {
   "cell_type": "code",
   "execution_count": 3,
   "metadata": {},
   "outputs": [
    {
     "name": "stdout",
     "output_type": "stream",
     "text": [
      "163192 1\n"
     ]
    }
   ],
   "source": [
    "epi300_asm_path = WORKSPACE_ROOT/\"data/assembly/epi300.fna\"\n",
    "for e in SeqIO.parse(epi300_asm_path, \"fasta\"):\n",
    "    epi300_desc = e.description\n",
    "    epi300_seq = str(e.seq)\n",
    "    break\n",
    "n_hits = len(re.findall(oriC, epi300_seq))\n",
    "loc_oriC = epi300_seq.index(oriC)\n",
    "print(loc_oriC, n_hits)"
   ]
  },
  {
   "cell_type": "code",
   "execution_count": null,
   "metadata": {},
   "outputs": [],
   "source": [
    "# mummer_coords = ws/\"epi300-k12.coords\"\n",
    "# if not mummer_coords.exists():\n",
    "#     os.system(f\"\"\"\\\n",
    "#         cd {ws}\n",
    "#         nucmer --threads 14 --prefix=epi300-k12 {k12_ref_path} {epi300_asm_path}\n",
    "#         show-coords -rcl epi300-k12.delta > {mummer_coords.name}\n",
    "#         mummerplot --prefix=epi300-k12 -t png epi300-k12.delta\n",
    "#     \"\"\")"
   ]
  },
  {
   "cell_type": "code",
   "execution_count": null,
   "metadata": {},
   "outputs": [],
   "source": [
    "# paf_lines = []\n",
    "# started = False\n",
    "# with open(mummer_coords, \"r\") as f:\n",
    "#     for line in f:\n",
    "#         if not started:\n",
    "#             if line.startswith(\"====\"): \n",
    "#                 started = True\n",
    "#             continue\n",
    "#         parts = [x for x in line.split(\" \") if x not in [\"\", \"\\n\", \"|\"]]\n",
    "#         # Extract relevant fields (adjust indices based on your coords.txt)\n",
    "#         ref_start, ref_end = int(parts[0]), int(parts[1])\n",
    "#         qry_start, qry_end = int(parts[2]), int(parts[3])\n",
    "#         ref_len, qry_len = int(parts[7]), int(parts[8])\n",
    "#         ref_name, qry_name = parts[-2], parts[-1]\n",
    "#         strand = \"+\" if qry_start < qry_end else \"-\"\n",
    "        \n",
    "#         # Write PAF line (minimal fields)\n",
    "#         paf_line = f\"{qry_name}\\t{qry_len}\\t{min(qry_start, qry_end)}\\t{max(qry_start, qry_end)}\\t{strand}\\t{ref_name}\\t{ref_len}\\t{ref_start}\\t{ref_end}\\t255\\t0\"\n",
    "#         paf_lines.append(paf_line)\n",
    "\n",
    "# mummer_paf = mummer_coords.with_suffix(\".paf\")\n",
    "# # Save to PAF\n",
    "# with open(mummer_paf, \"w\") as out:\n",
    "#     out.write(\"\\n\".join(paf_lines))"
   ]
  },
  {
   "cell_type": "code",
   "execution_count": 6,
   "metadata": {},
   "outputs": [
    {
     "data": {
      "text/plain": [
       "['trfA', 'dhfr']"
      ]
     },
     "execution_count": 6,
     "metadata": {},
     "output_type": "execute_result"
    }
   ],
   "source": [
    "# F- mcrA Δ(mrr-hsdRMS-mcrBC) φ80dlacZΔM15 ΔlacX74 recA1 endA1 araD139 Δ(ara, leu)7697 galU galK λ- rpsL nupG trfA dhfr\n",
    "epi300_genotype = [\n",
    "    \"mcrA\",\n",
    "]+[\"mrr\"]+[f\"hsd{x}\" for x in \"RMS\"]+[f\"mcr{x}\" for x in \"BC\"]+[ # Δ(mrr-hsdRMS-mcrBC)\n",
    "    \"lac\", # φ80dlacZΔM15, ΔlacX74\n",
    "    \"recA\", # recA1\n",
    "    \"endA\", # endA1\n",
    "    \"araD\", # araD139\n",
    "] + [\"ara\", \"leu\"] + [ # Δ(ara, leu)7697\n",
    "    \"galU\",\n",
    "    \"galK\",\n",
    "    \"rpsL\",\n",
    "    \"nupG\",\n",
    "    \"trfA\",\n",
    "    \"dhfr\",\n",
    "]\n",
    "\n",
    "genotype_k12_sequences = {}\n",
    "gene2loc = {}\n",
    "for e in SeqIO.parse(k12_gb_path, \"genbank\"):\n",
    "    for feature in e.features:\n",
    "        if feature.type != \"CDS\": continue\n",
    "        gene = feature.qualifiers.get(\"gene\")\n",
    "        prot = feature.qualifiers.get(\"product\")\n",
    "        if prot is not None: prot = prot[0]\n",
    "        if gene is None: continue\n",
    "        gene = gene[0]\n",
    "        gene2loc[gene] = gene2loc.get(gene, [])+[(prot, feature.location.start, feature.location.end)]\n",
    "        for k in epi300_genotype:\n",
    "            if not gene.startswith(k): continue\n",
    "            genotype_k12_sequences[k] = genotype_k12_sequences.get(k, [])+[(gene, prot, str(feature.extract(e.seq)))]\n",
    "no_refs = [x for x in epi300_genotype if not any(k.startswith(x) for k in genotype_k12_sequences.keys())]\n",
    "\n",
    "_todo = list(genotype_k12_sequences.items())\n",
    "genotype_k12_sequences = {}\n",
    "for k, ss in _todo:\n",
    "    for gene, prot, seq in ss:\n",
    "        kk = gene, prot\n",
    "        genotype_k12_sequences[kk] = seq\n",
    "\n",
    "seen = {}\n",
    "genotype_k12_sequences_fasta = Path(\"./cache/genotype_k12_sequences.fna\")\n",
    "with open(genotype_k12_sequences_fasta, \"w\") as f:\n",
    "    for (gene, prot), seq in genotype_k12_sequences.items():\n",
    "        i = seen.get(gene, 1)\n",
    "        f.write(f\">{gene}{i if i > 1 else \"\"} [{prot}] n={len(seq)}\\n\")\n",
    "        f.write(f\"{seq}\\n\")\n",
    "        seen[gene] = i+1\n",
    "\n",
    "no_refs"
   ]
  },
  {
   "cell_type": "code",
   "execution_count": 7,
   "metadata": {},
   "outputs": [
    {
     "name": "stdout",
     "output_type": "stream",
     "text": [
      "\n",
      "\n",
      "Building a new DB, current time: 08/24/2025 13:46:54\n",
      "New DB name:   /home/tony/workspace/projects/model_strains/main/genome_annoucements/cache/epi300_genotype/db/genotype_k12_ref\n",
      "New DB title:  /home/tony/workspace/projects/model_strains/main/genome_annoucements/cache/genotype_k12_sequences.fna\n",
      "Sequence type: Nucleotide\n",
      "Deleted existing Nucleotide BLAST database named /home/tony/workspace/projects/model_strains/main/genome_annoucements/cache/epi300_genotype/db/genotype_k12_ref\n",
      "Keep MBits: T\n",
      "Maximum file size: 3000000000B\n",
      "Adding sequences from FASTA; added 35 sequences in 0.00376582 seconds.\n",
      "\n",
      "\n",
      "blasting\n"
     ]
    }
   ],
   "source": [
    "COLS = \"qseqid sseqid qstart qend sstart send nident qlen slen\".split(\" \")\n",
    "blast_result = ws/\"temp.result.tsv\"\n",
    "# blast_result = ws/\"temp.result.blast\"\n",
    "if not blast_result.exists() or True:\n",
    "    os.system(f\"\"\"\\\n",
    "        cd {ws}\n",
    "        makeblastdb \\\n",
    "            -dbtype nucl \\\n",
    "            -in {genotype_k12_sequences_fasta.absolute()} \\\n",
    "            -out ./db/genotype_k12_ref\n",
    "\n",
    "        echo \"blasting\"\n",
    "        blastn \\\n",
    "            -num_threads 14 \\\n",
    "            -evalue 999 \\\n",
    "            -query {epi300_asm_path} \\\n",
    "            -outfmt \"6 {' '.join(COLS)}\" \\\n",
    "            -db ./db/genotype_k12_ref \\\n",
    "            -out {blast_result.name}\n",
    "    \"\"\")"
   ]
  },
  {
   "cell_type": "code",
   "execution_count": 8,
   "metadata": {},
   "outputs": [
    {
     "data": {
      "text/html": [
       "<div>\n",
       "<style scoped>\n",
       "    .dataframe tbody tr th:only-of-type {\n",
       "        vertical-align: middle;\n",
       "    }\n",
       "\n",
       "    .dataframe tbody tr th {\n",
       "        vertical-align: top;\n",
       "    }\n",
       "\n",
       "    .dataframe thead th {\n",
       "        text-align: right;\n",
       "    }\n",
       "</style>\n",
       "<table border=\"1\" class=\"dataframe\">\n",
       "  <thead>\n",
       "    <tr style=\"text-align: right;\">\n",
       "      <th></th>\n",
       "      <th>qseqid</th>\n",
       "      <th>sseqid</th>\n",
       "      <th>qstart</th>\n",
       "      <th>qend</th>\n",
       "      <th>sstart</th>\n",
       "      <th>send</th>\n",
       "      <th>nident</th>\n",
       "      <th>qlen</th>\n",
       "      <th>slen</th>\n",
       "    </tr>\n",
       "  </thead>\n",
       "  <tbody>\n",
       "    <tr>\n",
       "      <th>15</th>\n",
       "      <td>C1</td>\n",
       "      <td>araC</td>\n",
       "      <td>3389176</td>\n",
       "      <td>3390054</td>\n",
       "      <td>879</td>\n",
       "      <td>1</td>\n",
       "      <td>879</td>\n",
       "      <td>4691561</td>\n",
       "      <td>879</td>\n",
       "    </tr>\n",
       "    <tr>\n",
       "      <th>5</th>\n",
       "      <td>C1</td>\n",
       "      <td>araE</td>\n",
       "      <td>3906059</td>\n",
       "      <td>3907477</td>\n",
       "      <td>1419</td>\n",
       "      <td>1</td>\n",
       "      <td>1419</td>\n",
       "      <td>4691561</td>\n",
       "      <td>1419</td>\n",
       "    </tr>\n",
       "    <tr>\n",
       "      <th>10</th>\n",
       "      <td>C1</td>\n",
       "      <td>araF</td>\n",
       "      <td>2904266</td>\n",
       "      <td>2905255</td>\n",
       "      <td>990</td>\n",
       "      <td>1</td>\n",
       "      <td>990</td>\n",
       "      <td>4691561</td>\n",
       "      <td>990</td>\n",
       "    </tr>\n",
       "    <tr>\n",
       "      <th>4</th>\n",
       "      <td>C1</td>\n",
       "      <td>araG</td>\n",
       "      <td>2902682</td>\n",
       "      <td>2904196</td>\n",
       "      <td>1515</td>\n",
       "      <td>1</td>\n",
       "      <td>1515</td>\n",
       "      <td>4691561</td>\n",
       "      <td>1515</td>\n",
       "    </tr>\n",
       "    <tr>\n",
       "      <th>13</th>\n",
       "      <td>C1</td>\n",
       "      <td>araH</td>\n",
       "      <td>2901681</td>\n",
       "      <td>2902667</td>\n",
       "      <td>987</td>\n",
       "      <td>1</td>\n",
       "      <td>987</td>\n",
       "      <td>4691561</td>\n",
       "      <td>987</td>\n",
       "    </tr>\n",
       "    <tr>\n",
       "      <th>7</th>\n",
       "      <td>C1</td>\n",
       "      <td>araJ</td>\n",
       "      <td>1179170</td>\n",
       "      <td>1180354</td>\n",
       "      <td>1185</td>\n",
       "      <td>1</td>\n",
       "      <td>1185</td>\n",
       "      <td>4691561</td>\n",
       "      <td>1185</td>\n",
       "    </tr>\n",
       "    <tr>\n",
       "      <th>16</th>\n",
       "      <td>C1</td>\n",
       "      <td>endA</td>\n",
       "      <td>4016841</td>\n",
       "      <td>4017548</td>\n",
       "      <td>1</td>\n",
       "      <td>708</td>\n",
       "      <td>707</td>\n",
       "      <td>4691561</td>\n",
       "      <td>708</td>\n",
       "    </tr>\n",
       "    <tr>\n",
       "      <th>11</th>\n",
       "      <td>C1</td>\n",
       "      <td>galK</td>\n",
       "      <td>1670741</td>\n",
       "      <td>1671728</td>\n",
       "      <td>1149</td>\n",
       "      <td>162</td>\n",
       "      <td>988</td>\n",
       "      <td>4691561</td>\n",
       "      <td>1149</td>\n",
       "    </tr>\n",
       "    <tr>\n",
       "      <th>12</th>\n",
       "      <td>C1</td>\n",
       "      <td>galK</td>\n",
       "      <td>1673058</td>\n",
       "      <td>1673225</td>\n",
       "      <td>168</td>\n",
       "      <td>1</td>\n",
       "      <td>168</td>\n",
       "      <td>4691561</td>\n",
       "      <td>1149</td>\n",
       "    </tr>\n",
       "    <tr>\n",
       "      <th>14</th>\n",
       "      <td>C1</td>\n",
       "      <td>galU</td>\n",
       "      <td>2161016</td>\n",
       "      <td>2161924</td>\n",
       "      <td>1</td>\n",
       "      <td>909</td>\n",
       "      <td>909</td>\n",
       "      <td>4691561</td>\n",
       "      <td>909</td>\n",
       "    </tr>\n",
       "    <tr>\n",
       "      <th>20</th>\n",
       "      <td>C1</td>\n",
       "      <td>lacA</td>\n",
       "      <td>2210104</td>\n",
       "      <td>2210715</td>\n",
       "      <td>612</td>\n",
       "      <td>1</td>\n",
       "      <td>612</td>\n",
       "      <td>4691561</td>\n",
       "      <td>612</td>\n",
       "    </tr>\n",
       "    <tr>\n",
       "      <th>8</th>\n",
       "      <td>C1</td>\n",
       "      <td>lacI</td>\n",
       "      <td>2215190</td>\n",
       "      <td>2216272</td>\n",
       "      <td>1083</td>\n",
       "      <td>1</td>\n",
       "      <td>1083</td>\n",
       "      <td>4691561</td>\n",
       "      <td>1083</td>\n",
       "    </tr>\n",
       "    <tr>\n",
       "      <th>6</th>\n",
       "      <td>C1</td>\n",
       "      <td>lacY</td>\n",
       "      <td>2210781</td>\n",
       "      <td>2212034</td>\n",
       "      <td>1254</td>\n",
       "      <td>1</td>\n",
       "      <td>1254</td>\n",
       "      <td>4691561</td>\n",
       "      <td>1254</td>\n",
       "    </tr>\n",
       "    <tr>\n",
       "      <th>0</th>\n",
       "      <td>C1</td>\n",
       "      <td>lacZ</td>\n",
       "      <td>2212086</td>\n",
       "      <td>2215035</td>\n",
       "      <td>3075</td>\n",
       "      <td>126</td>\n",
       "      <td>2950</td>\n",
       "      <td>4691561</td>\n",
       "      <td>3075</td>\n",
       "    </tr>\n",
       "    <tr>\n",
       "      <th>1</th>\n",
       "      <td>C1</td>\n",
       "      <td>lacZ</td>\n",
       "      <td>2215036</td>\n",
       "      <td>2215067</td>\n",
       "      <td>32</td>\n",
       "      <td>1</td>\n",
       "      <td>32</td>\n",
       "      <td>4691561</td>\n",
       "      <td>3075</td>\n",
       "    </tr>\n",
       "    <tr>\n",
       "      <th>19</th>\n",
       "      <td>C1</td>\n",
       "      <td>leuE</td>\n",
       "      <td>2798811</td>\n",
       "      <td>2799449</td>\n",
       "      <td>639</td>\n",
       "      <td>1</td>\n",
       "      <td>639</td>\n",
       "      <td>4691561</td>\n",
       "      <td>639</td>\n",
       "    </tr>\n",
       "    <tr>\n",
       "      <th>3</th>\n",
       "      <td>C1</td>\n",
       "      <td>leuS</td>\n",
       "      <td>1440851</td>\n",
       "      <td>1443433</td>\n",
       "      <td>2583</td>\n",
       "      <td>1</td>\n",
       "      <td>2583</td>\n",
       "      <td>4691561</td>\n",
       "      <td>2583</td>\n",
       "    </tr>\n",
       "    <tr>\n",
       "      <th>2</th>\n",
       "      <td>C1</td>\n",
       "      <td>leuS</td>\n",
       "      <td>1554111</td>\n",
       "      <td>1556693</td>\n",
       "      <td>2583</td>\n",
       "      <td>1</td>\n",
       "      <td>2583</td>\n",
       "      <td>4691561</td>\n",
       "      <td>2583</td>\n",
       "    </tr>\n",
       "    <tr>\n",
       "      <th>17</th>\n",
       "      <td>C1</td>\n",
       "      <td>nupG</td>\n",
       "      <td>4032208</td>\n",
       "      <td>4032872</td>\n",
       "      <td>1</td>\n",
       "      <td>665</td>\n",
       "      <td>665</td>\n",
       "      <td>4691561</td>\n",
       "      <td>1257</td>\n",
       "    </tr>\n",
       "    <tr>\n",
       "      <th>18</th>\n",
       "      <td>C1</td>\n",
       "      <td>nupG</td>\n",
       "      <td>4044730</td>\n",
       "      <td>4045331</td>\n",
       "      <td>1257</td>\n",
       "      <td>656</td>\n",
       "      <td>602</td>\n",
       "      <td>4691561</td>\n",
       "      <td>1257</td>\n",
       "    </tr>\n",
       "    <tr>\n",
       "      <th>9</th>\n",
       "      <td>C1</td>\n",
       "      <td>recA</td>\n",
       "      <td>3746675</td>\n",
       "      <td>3747736</td>\n",
       "      <td>1062</td>\n",
       "      <td>1</td>\n",
       "      <td>1061</td>\n",
       "      <td>4691561</td>\n",
       "      <td>1062</td>\n",
       "    </tr>\n",
       "    <tr>\n",
       "      <th>21</th>\n",
       "      <td>C1</td>\n",
       "      <td>rpsL</td>\n",
       "      <td>4403348</td>\n",
       "      <td>4403722</td>\n",
       "      <td>375</td>\n",
       "      <td>1</td>\n",
       "      <td>374</td>\n",
       "      <td>4691561</td>\n",
       "      <td>375</td>\n",
       "    </tr>\n",
       "  </tbody>\n",
       "</table>\n",
       "</div>"
      ],
      "text/plain": [
       "   qseqid sseqid   qstart     qend  sstart  send  nident     qlen  slen\n",
       "15     C1   araC  3389176  3390054     879     1     879  4691561   879\n",
       "5      C1   araE  3906059  3907477    1419     1    1419  4691561  1419\n",
       "10     C1   araF  2904266  2905255     990     1     990  4691561   990\n",
       "4      C1   araG  2902682  2904196    1515     1    1515  4691561  1515\n",
       "13     C1   araH  2901681  2902667     987     1     987  4691561   987\n",
       "7      C1   araJ  1179170  1180354    1185     1    1185  4691561  1185\n",
       "16     C1   endA  4016841  4017548       1   708     707  4691561   708\n",
       "11     C1   galK  1670741  1671728    1149   162     988  4691561  1149\n",
       "12     C1   galK  1673058  1673225     168     1     168  4691561  1149\n",
       "14     C1   galU  2161016  2161924       1   909     909  4691561   909\n",
       "20     C1   lacA  2210104  2210715     612     1     612  4691561   612\n",
       "8      C1   lacI  2215190  2216272    1083     1    1083  4691561  1083\n",
       "6      C1   lacY  2210781  2212034    1254     1    1254  4691561  1254\n",
       "0      C1   lacZ  2212086  2215035    3075   126    2950  4691561  3075\n",
       "1      C1   lacZ  2215036  2215067      32     1      32  4691561  3075\n",
       "19     C1   leuE  2798811  2799449     639     1     639  4691561   639\n",
       "3      C1   leuS  1440851  1443433    2583     1    2583  4691561  2583\n",
       "2      C1   leuS  1554111  1556693    2583     1    2583  4691561  2583\n",
       "17     C1   nupG  4032208  4032872       1   665     665  4691561  1257\n",
       "18     C1   nupG  4044730  4045331    1257   656     602  4691561  1257\n",
       "9      C1   recA  3746675  3747736    1062     1    1061  4691561  1062\n",
       "21     C1   rpsL  4403348  4403722     375     1     374  4691561   375"
      ]
     },
     "execution_count": 8,
     "metadata": {},
     "output_type": "execute_result"
    }
   ],
   "source": [
    "df_blast = pd.read_csv(blast_result, sep=\"\\t\", header=None)\n",
    "df_blast.columns = COLS\n",
    "df_blast = df_blast.sort_values(\"sseqid\")\n",
    "df_blast"
   ]
  },
  {
   "cell_type": "code",
   "execution_count": 9,
   "metadata": {},
   "outputs": [
    {
     "name": "stdout",
     "output_type": "stream",
     "text": [
      "araD L-ribulose-5-phosphate 4-epimerase AraD\n",
      "araA L-arabinose isomerase\n",
      "araB ribulokinase\n",
      "leuD 3-isopropylmalate dehydratase subunit LeuD\n",
      "leuC 3-isopropylmalate dehydratase subunit LeuC\n",
      "leuB 3-isopropylmalate dehydrogenase\n",
      "leuA 2-isopropylmalate synthase\n",
      "leuL leu operon leader peptide\n",
      "leuO DNA-binding transcriptional dual regulator LeuO\n",
      "mcrA Type IV methyl-directed restriction enzyme EcoKMcrA\n",
      "mcrC Type IV methyl-directed restriction enzyme EcoKMcrBC subunit\n",
      "mcrB 5-methylcytosine-specific restriction enzyme subunit McrB\n",
      "mcrB McrBS\n",
      "hsdS type I restriction enzyme EcoKI specificity subunit\n",
      "hsdM type I restriction enzyme EcoKI methylase subunit\n",
      "hsdR type I restriction enzyme EcoKI endonuclease subunit\n",
      "mrr Type IV methyl-directed restriction enzyme EcoKMrr\n"
     ]
    }
   ],
   "source": [
    "_hits = set(df_blast.sseqid.values)\n",
    "for k, d in genotype_k12_sequences:\n",
    "    if k in _hits: continue\n",
    "    print(k, d)"
   ]
  },
  {
   "cell_type": "code",
   "execution_count": 10,
   "metadata": {},
   "outputs": [
    {
     "data": {
      "text/html": [
       "<div>\n",
       "<style scoped>\n",
       "    .dataframe tbody tr th:only-of-type {\n",
       "        vertical-align: middle;\n",
       "    }\n",
       "\n",
       "    .dataframe tbody tr th {\n",
       "        vertical-align: top;\n",
       "    }\n",
       "\n",
       "    .dataframe thead th {\n",
       "        text-align: right;\n",
       "    }\n",
       "</style>\n",
       "<table border=\"1\" class=\"dataframe\">\n",
       "  <thead>\n",
       "    <tr style=\"text-align: right;\">\n",
       "      <th></th>\n",
       "      <th>qseqid</th>\n",
       "      <th>sseqid</th>\n",
       "      <th>qstart</th>\n",
       "      <th>qend</th>\n",
       "      <th>sstart</th>\n",
       "      <th>send</th>\n",
       "      <th>nident</th>\n",
       "      <th>qlen</th>\n",
       "      <th>slen</th>\n",
       "    </tr>\n",
       "  </thead>\n",
       "  <tbody>\n",
       "    <tr>\n",
       "      <th>15</th>\n",
       "      <td>C1</td>\n",
       "      <td>araC</td>\n",
       "      <td>3389176</td>\n",
       "      <td>3390054</td>\n",
       "      <td>879</td>\n",
       "      <td>1</td>\n",
       "      <td>879</td>\n",
       "      <td>4691561</td>\n",
       "      <td>879</td>\n",
       "    </tr>\n",
       "    <tr>\n",
       "      <th>5</th>\n",
       "      <td>C1</td>\n",
       "      <td>araE</td>\n",
       "      <td>3906059</td>\n",
       "      <td>3907477</td>\n",
       "      <td>1419</td>\n",
       "      <td>1</td>\n",
       "      <td>1419</td>\n",
       "      <td>4691561</td>\n",
       "      <td>1419</td>\n",
       "    </tr>\n",
       "    <tr>\n",
       "      <th>10</th>\n",
       "      <td>C1</td>\n",
       "      <td>araF</td>\n",
       "      <td>2904266</td>\n",
       "      <td>2905255</td>\n",
       "      <td>990</td>\n",
       "      <td>1</td>\n",
       "      <td>990</td>\n",
       "      <td>4691561</td>\n",
       "      <td>990</td>\n",
       "    </tr>\n",
       "    <tr>\n",
       "      <th>4</th>\n",
       "      <td>C1</td>\n",
       "      <td>araG</td>\n",
       "      <td>2902682</td>\n",
       "      <td>2904196</td>\n",
       "      <td>1515</td>\n",
       "      <td>1</td>\n",
       "      <td>1515</td>\n",
       "      <td>4691561</td>\n",
       "      <td>1515</td>\n",
       "    </tr>\n",
       "    <tr>\n",
       "      <th>13</th>\n",
       "      <td>C1</td>\n",
       "      <td>araH</td>\n",
       "      <td>2901681</td>\n",
       "      <td>2902667</td>\n",
       "      <td>987</td>\n",
       "      <td>1</td>\n",
       "      <td>987</td>\n",
       "      <td>4691561</td>\n",
       "      <td>987</td>\n",
       "    </tr>\n",
       "    <tr>\n",
       "      <th>7</th>\n",
       "      <td>C1</td>\n",
       "      <td>araJ</td>\n",
       "      <td>1179170</td>\n",
       "      <td>1180354</td>\n",
       "      <td>1185</td>\n",
       "      <td>1</td>\n",
       "      <td>1185</td>\n",
       "      <td>4691561</td>\n",
       "      <td>1185</td>\n",
       "    </tr>\n",
       "    <tr>\n",
       "      <th>14</th>\n",
       "      <td>C1</td>\n",
       "      <td>galU</td>\n",
       "      <td>2161016</td>\n",
       "      <td>2161924</td>\n",
       "      <td>1</td>\n",
       "      <td>909</td>\n",
       "      <td>909</td>\n",
       "      <td>4691561</td>\n",
       "      <td>909</td>\n",
       "    </tr>\n",
       "    <tr>\n",
       "      <th>20</th>\n",
       "      <td>C1</td>\n",
       "      <td>lacA</td>\n",
       "      <td>2210104</td>\n",
       "      <td>2210715</td>\n",
       "      <td>612</td>\n",
       "      <td>1</td>\n",
       "      <td>612</td>\n",
       "      <td>4691561</td>\n",
       "      <td>612</td>\n",
       "    </tr>\n",
       "    <tr>\n",
       "      <th>8</th>\n",
       "      <td>C1</td>\n",
       "      <td>lacI</td>\n",
       "      <td>2215190</td>\n",
       "      <td>2216272</td>\n",
       "      <td>1083</td>\n",
       "      <td>1</td>\n",
       "      <td>1083</td>\n",
       "      <td>4691561</td>\n",
       "      <td>1083</td>\n",
       "    </tr>\n",
       "    <tr>\n",
       "      <th>6</th>\n",
       "      <td>C1</td>\n",
       "      <td>lacY</td>\n",
       "      <td>2210781</td>\n",
       "      <td>2212034</td>\n",
       "      <td>1254</td>\n",
       "      <td>1</td>\n",
       "      <td>1254</td>\n",
       "      <td>4691561</td>\n",
       "      <td>1254</td>\n",
       "    </tr>\n",
       "    <tr>\n",
       "      <th>19</th>\n",
       "      <td>C1</td>\n",
       "      <td>leuE</td>\n",
       "      <td>2798811</td>\n",
       "      <td>2799449</td>\n",
       "      <td>639</td>\n",
       "      <td>1</td>\n",
       "      <td>639</td>\n",
       "      <td>4691561</td>\n",
       "      <td>639</td>\n",
       "    </tr>\n",
       "    <tr>\n",
       "      <th>3</th>\n",
       "      <td>C1</td>\n",
       "      <td>leuS</td>\n",
       "      <td>1440851</td>\n",
       "      <td>1443433</td>\n",
       "      <td>2583</td>\n",
       "      <td>1</td>\n",
       "      <td>2583</td>\n",
       "      <td>4691561</td>\n",
       "      <td>2583</td>\n",
       "    </tr>\n",
       "    <tr>\n",
       "      <th>2</th>\n",
       "      <td>C1</td>\n",
       "      <td>leuS</td>\n",
       "      <td>1554111</td>\n",
       "      <td>1556693</td>\n",
       "      <td>2583</td>\n",
       "      <td>1</td>\n",
       "      <td>2583</td>\n",
       "      <td>4691561</td>\n",
       "      <td>2583</td>\n",
       "    </tr>\n",
       "  </tbody>\n",
       "</table>\n",
       "</div>"
      ],
      "text/plain": [
       "   qseqid sseqid   qstart     qend  sstart  send  nident     qlen  slen\n",
       "15     C1   araC  3389176  3390054     879     1     879  4691561   879\n",
       "5      C1   araE  3906059  3907477    1419     1    1419  4691561  1419\n",
       "10     C1   araF  2904266  2905255     990     1     990  4691561   990\n",
       "4      C1   araG  2902682  2904196    1515     1    1515  4691561  1515\n",
       "13     C1   araH  2901681  2902667     987     1     987  4691561   987\n",
       "7      C1   araJ  1179170  1180354    1185     1    1185  4691561  1185\n",
       "14     C1   galU  2161016  2161924       1   909     909  4691561   909\n",
       "20     C1   lacA  2210104  2210715     612     1     612  4691561   612\n",
       "8      C1   lacI  2215190  2216272    1083     1    1083  4691561  1083\n",
       "6      C1   lacY  2210781  2212034    1254     1    1254  4691561  1254\n",
       "19     C1   leuE  2798811  2799449     639     1     639  4691561   639\n",
       "3      C1   leuS  1440851  1443433    2583     1    2583  4691561  2583\n",
       "2      C1   leuS  1554111  1556693    2583     1    2583  4691561  2583"
      ]
     },
     "execution_count": 10,
     "metadata": {},
     "output_type": "execute_result"
    }
   ],
   "source": [
    "df_blast[df_blast.slen == df_blast.nident]"
   ]
  },
  {
   "cell_type": "code",
   "execution_count": 11,
   "metadata": {},
   "outputs": [
    {
     "data": {
      "text/html": [
       "<div>\n",
       "<style scoped>\n",
       "    .dataframe tbody tr th:only-of-type {\n",
       "        vertical-align: middle;\n",
       "    }\n",
       "\n",
       "    .dataframe tbody tr th {\n",
       "        vertical-align: top;\n",
       "    }\n",
       "\n",
       "    .dataframe thead th {\n",
       "        text-align: right;\n",
       "    }\n",
       "</style>\n",
       "<table border=\"1\" class=\"dataframe\">\n",
       "  <thead>\n",
       "    <tr style=\"text-align: right;\">\n",
       "      <th></th>\n",
       "      <th>qseqid</th>\n",
       "      <th>sseqid</th>\n",
       "      <th>qstart</th>\n",
       "      <th>qend</th>\n",
       "      <th>sstart</th>\n",
       "      <th>send</th>\n",
       "      <th>nident</th>\n",
       "      <th>qlen</th>\n",
       "      <th>slen</th>\n",
       "    </tr>\n",
       "  </thead>\n",
       "  <tbody>\n",
       "    <tr>\n",
       "      <th>11</th>\n",
       "      <td>C1</td>\n",
       "      <td>galK</td>\n",
       "      <td>1670741</td>\n",
       "      <td>1671728</td>\n",
       "      <td>1149</td>\n",
       "      <td>162</td>\n",
       "      <td>988</td>\n",
       "      <td>4691561</td>\n",
       "      <td>1149</td>\n",
       "    </tr>\n",
       "    <tr>\n",
       "      <th>12</th>\n",
       "      <td>C1</td>\n",
       "      <td>galK</td>\n",
       "      <td>1673058</td>\n",
       "      <td>1673225</td>\n",
       "      <td>168</td>\n",
       "      <td>1</td>\n",
       "      <td>168</td>\n",
       "      <td>4691561</td>\n",
       "      <td>1149</td>\n",
       "    </tr>\n",
       "  </tbody>\n",
       "</table>\n",
       "</div>"
      ],
      "text/plain": [
       "   qseqid sseqid   qstart     qend  sstart  send  nident     qlen  slen\n",
       "11     C1   galK  1670741  1671728    1149   162     988  4691561  1149\n",
       "12     C1   galK  1673058  1673225     168     1     168  4691561  1149"
      ]
     },
     "execution_count": 11,
     "metadata": {},
     "output_type": "execute_result"
    }
   ],
   "source": [
    "df_blast[df_blast.sseqid==\"galK\"]"
   ]
  },
  {
   "cell_type": "code",
   "execution_count": 13,
   "metadata": {},
   "outputs": [],
   "source": [
    "import numpy as np\n",
    "from local.figures.template import BaseFigure, ApplyTemplate, go\n",
    "\n",
    "from local.figures.base.layout import Canvas, Panel, Transform\n",
    "from local.figures.base.coordinates import to_cart\n",
    "from local.figures.base.geometry import Brush\n",
    "from local.figures.base.text import TextPlotter\n",
    "from local.figures.colors import COLORS, Color, Palettes, XColor, ListOfXColor"
   ]
  },
  {
   "cell_type": "code",
   "execution_count": 14,
   "metadata": {},
   "outputs": [
    {
     "data": {
      "text/plain": [
       "4691561"
      ]
     },
     "execution_count": 14,
     "metadata": {},
     "output_type": "execute_result"
    }
   ],
   "source": [
    "k12toEpi300 = 827981\n",
    "genome_length = len(epi300_seq)\n",
    "genome_length"
   ]
  },
  {
   "cell_type": "code",
   "execution_count": 16,
   "metadata": {},
   "outputs": [
    {
     "data": {
      "text/plain": [
       "[('16S', 182133),\n",
       " ('23S', 185391),\n",
       " ('5S', 185599),\n",
       " ('16S', 275856),\n",
       " ('23S', 279207),\n",
       " ('5S', 279416),\n",
       " ('16S', 407761),\n",
       " ('23S', 411105),\n",
       " ('5S', 411313),\n",
       " ('16S', 449249),\n",
       " ('23S', 452507),\n",
       " ('5S', 452716),\n",
       " ('16S', 1028733),\n",
       " ('23S', 1032083),\n",
       " ('5S', 1032292),\n",
       " ('5S', 3649374),\n",
       " ('23S', 3652372),\n",
       " ('16S', 3654344),\n",
       " ('5S', 4352708),\n",
       " ('5S', 4352953),\n",
       " ('23S', 4355951),\n",
       " ('16S', 4357929)]"
      ]
     },
     "execution_count": 16,
     "metadata": {},
     "output_type": "execute_result"
    }
   ],
   "source": [
    "df_rrna = pd.read_csv(WORKSPACE_ROOT/\"data/ecoli/annotations/epi300.barrnap.gff\", sep=\"\\t\", comment=\"#\", header=None)\n",
    "rrnas = []\n",
    "for _, r in df_rrna.iterrows():\n",
    "    loc = r[4]\n",
    "    meta = r[8].split(\";\")\n",
    "    meta = {m.split(\"=\")[0]: m.split(\"=\")[1] for m in meta}\n",
    "    rrnas.append((meta[\"product\"].split(\" \")[0], loc))\n",
    "rrnas"
   ]
  },
  {
   "cell_type": "code",
   "execution_count": 92,
   "metadata": {},
   "outputs": [
    {
     "data": {
      "text/plain": [
       "[(182133, ['16S', '23S', '5S']),\n",
       " (275856, ['16S', '23S', '5S']),\n",
       " (407761, ['16S', '23S', '5S']),\n",
       " (449249, ['16S', '23S', '5S']),\n",
       " (1028733, ['16S', '23S', '5S']),\n",
       " (3649374, ['5S', '23S', '16S']),\n",
       " (4352708, ['5S', '5S', '23S', '16S'])]"
      ]
     },
     "execution_count": 92,
     "metadata": {},
     "output_type": "execute_result"
    }
   ],
   "source": [
    "rrna_annots = []\n",
    "for rna, loc in rrnas:\n",
    "    found = False\n",
    "    for seen_loc, lst in rrna_annots:\n",
    "        if abs(seen_loc-loc) < 10000:\n",
    "            lst.append(rna)\n",
    "            found = True\n",
    "            break\n",
    "    if not found:\n",
    "        rrna_annots.append((loc, [rna]))\n",
    "rrna_annots"
   ]
  },
  {
   "cell_type": "code",
   "execution_count": 70,
   "metadata": {},
   "outputs": [
    {
     "data": {
      "text/plain": [
       "4159"
      ]
     },
     "execution_count": 70,
     "metadata": {},
     "output_type": "execute_result"
    }
   ],
   "source": [
    "from Bio.SeqFeature import ExactPosition, CompoundLocation\n",
    "\n",
    "def get_pos(e):\n",
    "    if isinstance(e.location, CompoundLocation):\n",
    "        parts = list(e.location.parts)\n",
    "        \n",
    "        # Calculate total length and find middle\n",
    "        total_length = sum(len(part) for part in parts)\n",
    "        middle_offset = total_length // 2\n",
    "        \n",
    "        # Find which part contains the middle\n",
    "        current_pos = 0\n",
    "        for part in parts:\n",
    "            part_length = len(part)\n",
    "            if current_pos + part_length > middle_offset:\n",
    "                # Middle is in this part\n",
    "                middle_in_part = middle_offset - current_pos\n",
    "                middle_position = part.start + middle_in_part\n",
    "                \n",
    "                # Handle circular wrap-around\n",
    "                if middle_position >= genome_length:\n",
    "                    middle_position -= genome_length\n",
    "                break\n",
    "            current_pos += part_length\n",
    "    else:\n",
    "        # Simple linear feature\n",
    "        middle_position = (e.location.start + e.location.end) // 2\n",
    "    return middle_position\n",
    "\n",
    "cds_locations = {}\n",
    "for g in SeqIO.parse(WORKSPACE_ROOT/\"data/ecoli/reference_genomes/EPI300/epi300.pgap.gb\", \"genbank\"):\n",
    "    for e in g.features:\n",
    "        if e.type != \"CDS\": continue\n",
    "        _q = e.qualifiers\n",
    "        key = None\n",
    "        for k in [\"gene\", \"product\"]:\n",
    "            if k in _q:\n",
    "                key = _q[k][0]\n",
    "                break\n",
    "        assert key is not None\n",
    "        pos = get_pos(e)\n",
    "        cds_locations[key] = pos\n",
    "len(cds_locations)"
   ]
  },
  {
   "cell_type": "code",
   "execution_count": 24,
   "metadata": {},
   "outputs": [
    {
     "name": "stdout",
     "output_type": "stream",
     "text": [
      "recovering & decompressing cached data from [{WORKSPACE}/main/genome_annoucements/cache/epi300_skew.pkl.gz]\n"
     ]
    },
    {
     "data": {
      "text/plain": [
       "(9383,)"
      ]
     },
     "execution_count": 24,
     "metadata": {},
     "output_type": "execute_result"
    }
   ],
   "source": [
    "skew = load(\"epi300_skew\")\n",
    "skew.shape # step=500, window=1000"
   ]
  },
  {
   "cell_type": "code",
   "execution_count": 93,
   "metadata": {},
   "outputs": [
    {
     "data": {
      "application/vnd.plotly.v1+json": {
       "config": {
        "plotlyServerURL": "https://plot.ly",
        "scrollZoom": false
       },
       "data": [],
       "layout": {
        "annotations": [
         {
          "font": {
           "color": "rgba(33.0000,33.0000,33.0000,1.0000)",
           "size": 18
          },
          "showarrow": false,
          "text": "oriC",
          "textangle": 0,
          "x": 0,
          "y": 0.36,
          "yanchor": "bottom"
         },
         {
          "align": "left",
          "font": {
           "color": "rgba(33.0000,33.0000,33.0000,1.0000)",
           "size": 18
          },
          "showarrow": false,
          "text": "mcrA",
          "textangle": 0,
          "x": 0.4587844855500507,
          "xanchor": "left",
          "y": 0.10040827592425133,
          "yanchor": "top"
         },
         {
          "align": "left",
          "font": {
           "color": "rgba(33.0000,33.0000,33.0000,1.0000)",
           "size": 18
          },
          "showarrow": false,
          "text": "Δ(mrr-hsdRMS-mcrBC)",
          "textangle": 0,
          "x": 0.34430442275564554,
          "xanchor": "left",
          "y": 0.3300114954230709,
          "yanchor": "top"
         },
         {
          "align": "left",
          "font": {
           "color": "rgba(33.0000,33.0000,33.0000,1.0000)",
           "size": 18
          },
          "showarrow": false,
          "text": "φ80dlacZΔM15<br>ΔlacX74",
          "textangle": 0,
          "x": 0.15984009729905532,
          "xanchor": "left",
          "y": -0.43562201195624456,
          "yanchor": "top"
         },
         {
          "align": "right",
          "font": {
           "color": "rgba(33.0000,33.0000,33.0000,1.0000)",
           "size": 18
          },
          "showarrow": false,
          "text": "recA1",
          "textangle": 0,
          "x": -0.46488094902795135,
          "xanchor": "right",
          "y": 0.05578579420152399,
          "yanchor": "top"
         },
         {
          "align": "right",
          "font": {
           "color": "rgba(33.0000,33.0000,33.0000,1.0000)",
           "size": 18
          },
          "showarrow": false,
          "text": "endA1<br>nupG",
          "textangle": 0,
          "x": -0.416542979828345,
          "xanchor": "right",
          "y": 0.2254037160639059,
          "yanchor": "top"
         },
         {
          "align": "left",
          "font": {
           "color": "rgba(33.0000,33.0000,33.0000,1.0000)",
           "size": 18
          },
          "showarrow": false,
          "text": "DHFR (folA)<br>araD139<br>Δ(ara, leu)7697",
          "textangle": 0,
          "x": 0.3815827604956661,
          "xanchor": "left",
          "y": 0.28364916651701133,
          "yanchor": "top"
         },
         {
          "align": "left",
          "font": {
           "color": "rgba(33.0000,33.0000,33.0000,1.0000)",
           "size": 18
          },
          "showarrow": false,
          "text": "galU",
          "textangle": 0,
          "x": 0.20942870579117634,
          "xanchor": "left",
          "y": -0.39203404533492303,
          "yanchor": "top"
         },
         {
          "align": "left",
          "font": {
           "color": "rgba(33.0000,33.0000,33.0000,1.0000)",
           "size": 18
          },
          "showarrow": false,
          "text": "galK",
          "textangle": 0,
          "x": 0.4204393247002154,
          "xanchor": "left",
          "y": -0.1875056839286358,
          "yanchor": "top"
         },
         {
          "align": "right",
          "font": {
           "color": "rgba(33.0000,33.0000,33.0000,1.0000)",
           "size": 18
          },
          "showarrow": false,
          "text": "rpsL",
          "textangle": 0,
          "x": -0.2651521026891456,
          "xanchor": "right",
          "y": 0.3990210153328885,
          "yanchor": "top"
         },
         {
          "align": "right",
          "font": {
           "color": "rgba(33.0000,33.0000,33.0000,1.0000)",
           "size": 18
          },
          "showarrow": false,
          "text": "trfA",
          "textangle": 0,
          "x": -0.43170982445098083,
          "xanchor": "right",
          "y": -0.1622128811635346,
          "yanchor": "top"
         },
         {
          "align": "right",
          "font": {
           "color": "rgba(33.0000,33.0000,33.0000,1.0000)",
           "size": 18
          },
          "showarrow": false,
          "text": "",
          "textangle": 0,
          "x": 0.007440125225480585,
          "xanchor": "right",
          "y": 0.30823896224934644,
          "yanchor": "top"
         },
         {
          "align": "right",
          "font": {
           "color": "rgba(33.0000,33.0000,33.0000,1.0000)",
           "size": 18
          },
          "showarrow": false,
          "text": "",
          "textangle": 0,
          "x": 0.04409201450416231,
          "xanchor": "right",
          "y": 0.3050005839673589,
          "yanchor": "top"
         },
         {
          "align": "right",
          "font": {
           "color": "rgba(33.0000,33.0000,33.0000,1.0000)",
           "size": 18
          },
          "showarrow": false,
          "text": "",
          "textangle": 0,
          "x": 0.09436957926754008,
          "xanchor": "right",
          "y": 0.2927387746666135,
          "yanchor": "top"
         },
         {
          "align": "right",
          "font": {
           "color": "rgba(33.0000,33.0000,33.0000,1.0000)",
           "size": 18
          },
          "showarrow": false,
          "text": "",
          "textangle": 0,
          "x": 0.10964798212335965,
          "xanchor": "right",
          "y": 0.2870694111081212,
          "yanchor": "top"
         },
         {
          "align": "right",
          "font": {
           "color": "rgba(33.0000,33.0000,33.0000,1.0000)",
           "size": 18
          },
          "showarrow": false,
          "text": "",
          "textangle": 0,
          "x": 0.2688325372450172,
          "xanchor": "right",
          "y": 0.1323606039642386,
          "yanchor": "top"
         },
         {
          "align": "left",
          "font": {
           "color": "rgba(33.0000,33.0000,33.0000,1.0000)",
           "size": 18
          },
          "showarrow": false,
          "text": "",
          "textangle": 0,
          "x": -0.29305571131278035,
          "xanchor": "left",
          "y": 0.0022409047575950355,
          "yanchor": "top"
         },
         {
          "align": "left",
          "font": {
           "color": "rgba(33.0000,33.0000,33.0000,1.0000)",
           "size": 18
          },
          "showarrow": false,
          "text": "",
          "textangle": 0,
          "x": -0.1826991602246576,
          "xanchor": "left",
          "y": 0.24448956686012835,
          "yanchor": "top"
         },
         {
          "align": "right",
          "font": {
           "color": "rgba(33.0000,33.0000,33.0000,1.0000)",
           "size": 18
          },
          "showarrow": false,
          "text": "",
          "textangle": 0,
          "x": 0.007440125225480585,
          "xanchor": "right",
          "y": 0.30823896224934644,
          "yanchor": "top"
         },
         {
          "align": "right",
          "font": {
           "color": "rgba(33.0000,33.0000,33.0000,1.0000)",
           "size": 18
          },
          "showarrow": false,
          "text": "",
          "textangle": 0,
          "x": 0.04409201450416231,
          "xanchor": "right",
          "y": 0.3050005839673589,
          "yanchor": "top"
         },
         {
          "align": "right",
          "font": {
           "color": "rgba(33.0000,33.0000,33.0000,1.0000)",
           "size": 18
          },
          "showarrow": false,
          "text": "",
          "textangle": 0,
          "x": 0.09436957926754008,
          "xanchor": "right",
          "y": 0.2927387746666135,
          "yanchor": "top"
         },
         {
          "align": "right",
          "font": {
           "color": "rgba(33.0000,33.0000,33.0000,1.0000)",
           "size": 18
          },
          "showarrow": false,
          "text": "",
          "textangle": 0,
          "x": 0.10964798212335965,
          "xanchor": "right",
          "y": 0.2870694111081212,
          "yanchor": "top"
         },
         {
          "align": "right",
          "font": {
           "color": "rgba(33.0000,33.0000,33.0000,1.0000)",
           "size": 18
          },
          "showarrow": false,
          "text": "",
          "textangle": 0,
          "x": 0.2688325372450172,
          "xanchor": "right",
          "y": 0.1323606039642386,
          "yanchor": "top"
         },
         {
          "align": "left",
          "font": {
           "color": "rgba(33.0000,33.0000,33.0000,1.0000)",
           "size": 18
          },
          "showarrow": false,
          "text": "",
          "textangle": 0,
          "x": -0.29305571131278035,
          "xanchor": "left",
          "y": 0.0022409047575950355,
          "yanchor": "top"
         },
         {
          "align": "left",
          "font": {
           "color": "rgba(33.0000,33.0000,33.0000,1.0000)",
           "size": 18
          },
          "showarrow": false,
          "text": "",
          "textangle": 0,
          "x": -0.1826991602246576,
          "xanchor": "left",
          "y": 0.24448956686012835,
          "yanchor": "top"
         }
        ],
        "dragmode": "pan",
        "font": {
         "family": "Arial"
        },
        "height": 600,
        "legend": {
         "font": {
          "size": 12
         }
        },
        "margin": {
         "b": 15,
         "l": 15,
         "pad": 5,
         "r": 15,
         "t": 15
        },
        "paper_bgcolor": "white",
        "plot_bgcolor": "white",
        "shapes": [
         {
          "fillcolor": "rgba(33.0000,33.0000,33.0000,1.0000)",
          "fillrule": "nonzero",
          "layer": "above",
          "line": {
           "color": "black",
           "width": 0
          },
          "path": "M 0.0,0.3333333333333333 L 0.013333333333333332,0.36 L -0.013333333333333332,0.36 Z M 2.0206672185931326e-17,0.32999999999999996 L 0.01619233252804798,0.3296025005477069 L 0.03234565630875505,0.32841095980182494 L 0.04842105657026938,0.3264282482883777 L 0.06437980626532235,0.32365914253306605 L 0.08018345936807711,0.3201103135541995 L 0.09579394349397258,0.3157903107916289 L 0.11117365161943261,0.31070954151039687 L 0.12628553268047965,0.30488024572872463 L 0.14109318083199313,0.2983164667307363 L 0.15556092315257927,0.29103401723495714 L 0.16965390558376314,0.2830504413000898 L 0.18333817689646875,0.2743849720598399 L 0.19658077048250303,0.26505848538861276 L 0.20934978377400298,0.2550934496097032 L 0.22161445509951605,0.24451387136713648 L 0.2333452377915607,0.23334523779156063 L 0.24451387136713648,0.22161445509951605 L 0.2550934496097032,0.20934978377400298 L 0.2650584853886128,0.196580770482503 L 0.2743849720598399,0.18333817689646872 L 0.2830504413000898,0.16965390558376314 L 0.29103401723495714,0.15556092315257924 L 0.2983164667307363,0.1410931808319931 L 0.30488024572872463,0.12628553268047962 L 0.31070954151039687,0.1111736516194326 L 0.3157903107916289,0.09579394349397255 L 0.3201103135541995,0.08018345936807708 L 0.32365914253306605,0.06437980626532232 L 0.3264282482883777,0.04842105657026936 L 0.328410959801825,0.032345656308755036 L 0.3296025005477069,0.016192332528047963 L 0.32999999999999996,0.0 L 0.3296025005477069,-0.016192332528047963 L 0.328410959801825,-0.032345656308755036 L 0.3264282482883777,-0.04842105657026936 L 0.32365914253306605,-0.06437980626532232 L 0.3201103135541995,-0.08018345936807708 L 0.3157903107916289,-0.09579394349397255 L 0.31070954151039687,-0.1111736516194326 L 0.30488024572872463,-0.12628553268047962 L 0.2983164667307363,-0.14109318083199301 L 0.29103401723495714,-0.15556092315257924 L 0.2830504413000898,-0.16965390558376314 L 0.2743849720598399,-0.1833381768964687 L 0.2650584853886128,-0.196580770482503 L 0.2550934496097032,-0.20934978377400296 L 0.24451387136713645,-0.2216144550995161 L 0.2333452377915607,-0.23334523779156063 L 0.2216144550995161,-0.24451387136713645 L 0.20934978377400298,-0.2550934496097032 L 0.19658077048250303,-0.26505848538861276 L 0.1833381768964687,-0.2743849720598399 L 0.16965390558376314,-0.2830504413000898 L 0.15556092315257927,-0.29103401723495714 L 0.14109318083199304,-0.2983164667307363 L 0.12628553268047965,-0.30488024572872463 L 0.11117365161943268,-0.3107095415103968 L 0.09579394349397258,-0.3157903107916289 L 0.08018345936807711,-0.3201103135541995 L 0.06437980626532241,-0.32365914253306605 L 0.04842105657026938,-0.3264282482883777 L 0.03234565630875505,-0.32841095980182494 L 0.016192332528047908,-0.3296025005477069 L 2.0206672185931326e-17,-0.32999999999999996 L -0.016192332528047866,-0.3296025005477069 L -0.03234565630875501,-0.328410959801825 L -0.048421056570269336,-0.3264282482883777 L -0.06437980626532237,-0.32365914253306605 L -0.08018345936807708,-0.3201103135541995 L -0.09579394349397252,-0.3157903107916289 L -0.11117365161943266,-0.3107095415103968 L -0.1262855326804796,-0.30488024572872463 L -0.14109318083199301,-0.2983164667307363 L -0.15556092315257924,-0.29103401723495714 L -0.16965390558376314,-0.2830504413000898 L -0.18333817689646864,-0.27438497205983997 L -0.196580770482503,-0.2650584853886128 L -0.20934978377400296,-0.25509344960970326 L -0.22161445509951608,-0.24451387136713645 L -0.23334523779156063,-0.2333452377915607 L -0.24451387136713643,-0.2216144550995161 L -0.2550934496097031,-0.2093497837740031 L -0.2650584853886129,-0.19658077048250291 L -0.2743849720598399,-0.18333817689646872 L -0.2830504413000897,-0.16965390558376317 L -0.29103401723495714,-0.1555609231525793 L -0.2983164667307362,-0.14109318083199318 L -0.3048802457287245,-0.1262855326804798 L -0.31070954151039687,-0.11117365161943256 L -0.3157903107916289,-0.09579394349397258 L -0.3201103135541995,-0.08018345936807714 L -0.32365914253306605,-0.06437980626532244 L -0.3264282482883777,-0.048421056570269544 L -0.328410959801825,-0.032345656308754925 L -0.3296025005477069,-0.01619233252804793 L -0.32999999999999996,-4.041334437186265e-17 L -0.3296025005477069,0.016192332528047845 L -0.328410959801825,0.03234565630875484 L -0.3264282482883777,0.04842105657026946 L -0.32365914253306605,0.06437980626532236 L -0.3201103135541995,0.08018345936807705 L -0.3157903107916289,0.0957939434939725 L -0.31070954151039687,0.11117365161943249 L -0.3048802457287246,0.1262855326804797 L -0.29831646673073625,0.14109318083199313 L -0.29103401723495714,0.15556092315257922 L -0.2830504413000898,0.1696539055837631 L -0.27438497205983997,0.18333817689646864 L -0.26505848538861293,0.19658077048250283 L -0.25509344960970315,0.20934978377400304 L -0.24451387136713648,0.22161445509951608 L -0.23334523779156072,0.23334523779156063 L -0.22161445509951616,0.24451387136713643 L -0.20934978377400315,0.2550934496097031 L -0.19658077048250291,0.2650584853886129 L -0.18333817689646872,0.2743849720598399 L -0.16965390558376317,0.2830504413000897 L -0.1555609231525793,0.29103401723495714 L -0.1410931808319932,0.2983164667307362 L -0.12628553268047982,0.3048802457287245 L -0.11117365161943257,0.31070954151039687 L -0.09579394349397259,0.3157903107916289 L -0.08018345936807715,0.3201103135541995 L -0.06437980626532246,0.323659142533066 L -0.04842105657026956,0.3264282482883777 L -0.032345656308754946,0.328410959801825 L -0.01619233252804795,0.3296025005477069 L -6.062001655779397e-17,0.32999999999999996 L -6.184466335694134e-17,0.33666666666666667 L -0.016519450356897402,0.33626113692240805 L -0.03299910391095202,0.33504552464630627 L -0.049399259733305306,0.33302275835480954 L -0.06568040841209664,0.3301977110690875 L -0.08180332723409892,0.32657718857549645 L -0.09772917467566902,0.32216991302984366 L -0.11341958397538071,0.3169865019449503 L -0.12883675556291374,0.3110394426121331 L -0.14394354812152843,0.3043430620182258 L -0.1587035680647526,0.2969134923306128 L -0.173081257211718,0.2887686320334249 L -0.1870419784499327,0.27992810280852354 L -0.20055209917911915,0.2704132022651505 L -0.21357907233509413,0.26024685263212133 L -0.22609151479849626,0.2494535455361695 L -0.23805928299947104,0.238059282999471 L -0.24945354553616955,0.2260915147984962 L -0.2602468526321214,0.21357907233509402 L -0.27041320226515053,0.2005520991791191 L -0.27992810280852365,0.18704197844993264 L -0.28876863203342495,0.1730812572117179 L -0.2969134923306128,0.15870356806475253 L -0.30434306201822586,0.14394354812152832 L -0.3110394426121331,0.12883675556291363 L -0.31698650194495037,0.11341958397538061 L -0.32216991302984366,0.0977291746756689 L -0.32657718857549645,0.0818033272340988 L -0.3301977110690876,0.06568040841209655 L -0.33302275835480954,0.0493992597333052 L -0.33504552464630627,0.03299910391095191 L -0.33626113692240805,0.0165194503568973 L -0.33666666666666667,-4.1229775571294224e-17 L -0.33626113692240805,-0.01651945035689738 L -0.33504552464630627,-0.032999103910951996 L -0.33302275835480954,-0.049399259733305285 L -0.3301977110690876,-0.06568040841209663 L -0.32657718857549645,-0.0818033272340989 L -0.32216991302984366,-0.09772917467566901 L -0.3169865019449503,-0.11341958397538068 L -0.3110394426121331,-0.1288367555629137 L -0.3043430620182258,-0.1439435481215284 L -0.2969134923306128,-0.1587035680647526 L -0.2887686320334249,-0.173081257211718 L -0.2799281028085236,-0.1870419784499327 L -0.2704132022651505,-0.20055209917911915 L -0.26024685263212133,-0.2135790723350941 L -0.2494535455361695,-0.22609151479849623 L -0.238059282999471,-0.23805928299947102 L -0.2260915147984962,-0.24945354553616952 L -0.21357907233509393,-0.26024685263212144 L -0.20055209917911923,-0.2704132022651504 L -0.18704197844993264,-0.27992810280852365 L -0.17308125721171796,-0.28876863203342495 L -0.15870356806475255,-0.2969134923306128 L -0.1439435481215282,-0.3043430620182259 L -0.12883675556291352,-0.3110394426121332 L -0.11341958397538078,-0.31698650194495026 L -0.09772917467566891,-0.32216991302984366 L -0.08180332723409883,-0.32657718857549645 L -0.06568040841209656,-0.3301977110690876 L -0.049399259733305084,-0.3330227583548096 L -0.03299910391095208,-0.33504552464630627 L -0.016519450356897322,-0.33626113692240805 L 2.0614887785647112e-17,-0.33666666666666667 L 0.01651945035689736,-0.33626113692240805 L 0.03299910391095212,-0.33504552464630627 L 0.04939925973330512,-0.3330227583548096 L 0.0656804084120966,-0.3301977110690876 L 0.08180332723409887,-0.32657718857549645 L 0.09772917467566897,-0.32216991302984366 L 0.11341958397538082,-0.31698650194495026 L 0.12883675556291357,-0.3110394426121332 L 0.14394354812152826,-0.3043430620182259 L 0.15870356806475258,-0.2969134923306128 L 0.17308125721171796,-0.28876863203342495 L 0.18704197844993267,-0.2799281028085236 L 0.20055209917911926,-0.2704132022651504 L 0.213579072335094,-0.26024685263212144 L 0.22609151479849623,-0.24945354553616952 L 0.23805928299947102,-0.238059282999471 L 0.24945354553616952,-0.22609151479849623 L 0.26024685263212144,-0.21357907233509393 L 0.2704132022651504,-0.20055209917911923 L 0.2799281028085236,-0.18704197844993267 L 0.28876863203342495,-0.17308125721171796 L 0.2969134923306128,-0.15870356806475255 L 0.3043430620182259,-0.14394354812152824 L 0.3110394426121332,-0.12883675556291355 L 0.3169865019449503,-0.11341958397538073 L 0.32216991302984366,-0.09772917467566895 L 0.32657718857549645,-0.08180332723409886 L 0.3301977110690876,-0.0656804084120965 L 0.3330227583548096,-0.0493992597333051 L 0.33504552464630627,-0.03299910391095211 L 0.33626113692240805,-0.016519450356897416 L 0.33666666666666667,0.0 L 0.33626113692240805,0.016519450356897416 L 0.33504552464630627,0.03299910391095211 L 0.3330227583548096,0.0493992597333051 L 0.3301977110690876,0.0656804084120965 L 0.32657718857549645,0.08180332723409886 L 0.32216991302984366,0.09772917467566895 L 0.3169865019449503,0.11341958397538073 L 0.3110394426121332,0.12883675556291355 L 0.3043430620182259,0.14394354812152832 L 0.2969134923306128,0.15870356806475255 L 0.28876863203342495,0.17308125721171796 L 0.27992810280852354,0.1870419784499327 L 0.2704132022651504,0.20055209917911923 L 0.26024685263212144,0.213579072335094 L 0.24945354553616955,0.22609151479849615 L 0.23805928299947102,0.238059282999471 L 0.22609151479849615,0.24945354553616955 L 0.213579072335094,0.26024685263212144 L 0.20055209917911926,0.2704132022651504 L 0.18704197844993276,0.27992810280852354 L 0.17308125721171796,0.28876863203342495 L 0.15870356806475258,0.2969134923306128 L 0.14394354812152832,0.3043430620182259 L 0.12883675556291357,0.3110394426121332 L 0.11341958397538074,0.3169865019449503 L 0.09772917467566897,0.32216991302984366 L 0.08180332723409887,0.32657718857549645 L 0.06568040841209653,0.3301977110690876 L 0.04939925973330512,0.3330227583548096 L 0.03299910391095212,0.33504552464630627 L 0.016519450356897433,0.33626113692240805 L 2.0614887785647112e-17,0.33666666666666667 Z",
          "type": "path",
          "xref": "x",
          "yref": "y"
         },
         {
          "fillcolor": "rgba(33.0000,33.0000,33.0000,1.0000)",
          "fillrule": "nonzero",
          "layer": "above",
          "line": {
           "color": "black",
           "width": 0
          },
          "path": "M 0.32770320396432195,0.061005911374465246 L 0.32800413596872374,0.05936663960948174 L 0.45920579035621323,0.08311329545327442 L 0.4587844855500507,0.08540827592425133 Z M 0.24593173053974685,0.22500821101647922 L 0.24705369276693678,0.22377574489057367 L 0.3458751698737115,0.3132860428468031 L 0.34430442275564554,0.3150114954230709 Z M 0.1284572123564681,-0.30758715139731757 L 0.12691767729572997,-0.30822558995152893 L 0.17768474821402194,-0.43151582593214044 L 0.1798400972990553,-0.43062201195624455 Z M -0.33205782073425094,0.029132710143945712 L -0.3319080070763501,0.030792628171636173 L -0.46467120990689015,0.043109679440290635 L -0.46488094902795135,0.04078579420152399 Z M -0.2975306998773893,0.15028836861707565 L -0.2967755420393074,0.15177413731722011 L -0.4154857588550303,0.21248379224410813 L -0.416542979828345,0.2104037160639059 Z M 0.2725591146397615,0.19189226179786523 L 0.2735151649691653,0.19052707325469892 L 0.38292123095683134,0.2667379025565785 L 0.3815827604956661,0.2686491665170113 Z M 0.1495919327079831,-0.2978814609535165 L 0.14810066171380834,-0.29862569399005706 L 0.20734092639933166,-0.41807597158607984 L 0.20942870579117634,-0.41703404533492305 Z M 0.30031380335729674,-0.14464691709188277 L 0.2995868178705897,-0.14614667176944265 L 0.41942154501882556,-0.2046053404772197 L 0.4204393247002154,-0.20250568392863583 Z M -0.1893943590636754,0.2743007252377775 L -0.18802049372752172,0.27524426433546273 L -0.2632286912185304,0.38534197006964777 L -0.2651521026891456,0.38402101533288846 Z M -0.3083641603221292,-0.12658062940252474 L -0.3089932062880749,-0.12503723277058826 L -0.43259048880330486,-0.17505212587882357 L -0.43170982445098083,-0.17721288116353462 Z",
          "type": "path",
          "xref": "x",
          "yref": "y"
         },
         {
          "fillcolor": "rgba(255.0000,0.0000,0.0000,1.0000)",
          "fillrule": "nonzero",
          "layer": "above",
          "line": {
           "color": "black",
           "width": 0
          },
          "path": "M 0.007440125225480584,0.29323896224934637 L 0.008906220926218374,0.2931980962988297 L 0.010120705597975427,0.33317965488503376 L 0.008454687756227937,0.33322609346516635 Z M 0.044092014504162294,0.29000058396735884 L 0.04554146023329478,0.28977649981367304 L 0.05175165935601679,0.32929147706099215 L 0.05010456193654807,0.329546118144726 Z M 0.09436957926754005,0.27773877466661345 L 0.0957570877373726,0.27726345700885563 L 0.10881487242883253,0.315072110237336 L 0.10723815825856826,0.3156122439393335 Z M 0.10964798212335963,0.2720694111081211 L 0.11100695291387343,0.27151777262128074 L 0.12614426467485618,0.3085429234332736 L 0.12459997968563596,0.30916978535013767 Z M 0.2688325372450172,0.1173606039642386 L 0.26941597742011414,0.1160149798741911 L 0.3061545197955843,0.13183520440248991 L 0.3054915195966105,0.13336432268663478 Z M -0.2930557113127803,-0.012759095242404964 L -0.2931158433344184,-0.011293663302802518 L -0.33308618560729375,-0.012833708298639227 L -0.33301785376452314,-0.014498971866369278 Z M -0.18269916022465754,0.22948956686012834 L -0.18154943343663857,0.23040019024141437 L -0.2063061743598166,0.2618183980016073 L -0.20761268207347452,0.2607835987046913 Z M 0.007440125225480584,0.29323896224934637 L 0.008906220926218374,0.2931980962988297 L 0.010120705597975427,0.33317965488503376 L 0.008454687756227937,0.33322609346516635 Z M 0.044092014504162294,0.29000058396735884 L 0.04554146023329478,0.28977649981367304 L 0.05175165935601679,0.32929147706099215 L 0.05010456193654807,0.329546118144726 Z M 0.09436957926754005,0.27773877466661345 L 0.0957570877373726,0.27726345700885563 L 0.10881487242883253,0.315072110237336 L 0.10723815825856826,0.3156122439393335 Z M 0.10964798212335963,0.2720694111081211 L 0.11100695291387343,0.27151777262128074 L 0.12614426467485618,0.3085429234332736 L 0.12459997968563596,0.30916978535013767 Z M 0.2688325372450172,0.1173606039642386 L 0.26941597742011414,0.1160149798741911 L 0.3061545197955843,0.13183520440248991 L 0.3054915195966105,0.13336432268663478 Z M -0.2930557113127803,-0.012759095242404964 L -0.2931158433344184,-0.011293663302802518 L -0.33308618560729375,-0.012833708298639227 L -0.33301785376452314,-0.014498971866369278 Z M -0.18269916022465754,0.22948956686012834 L -0.18154943343663857,0.23040019024141437 L -0.2063061743598166,0.2618183980016073 L -0.20761268207347452,0.2607835987046913 Z",
          "type": "path",
          "xref": "x",
          "yref": "y"
         }
        ],
        "showlegend": false,
        "template": {
         "data": {
          "bar": [
           {
            "error_x": {
             "color": "#2a3f5f"
            },
            "error_y": {
             "color": "#2a3f5f"
            },
            "marker": {
             "line": {
              "color": "#E5ECF6",
              "width": 0.5
             },
             "pattern": {
              "fillmode": "overlay",
              "size": 10,
              "solidity": 0.2
             }
            },
            "type": "bar"
           }
          ],
          "barpolar": [
           {
            "marker": {
             "line": {
              "color": "#E5ECF6",
              "width": 0.5
             },
             "pattern": {
              "fillmode": "overlay",
              "size": 10,
              "solidity": 0.2
             }
            },
            "type": "barpolar"
           }
          ],
          "carpet": [
           {
            "aaxis": {
             "endlinecolor": "#2a3f5f",
             "gridcolor": "white",
             "linecolor": "white",
             "minorgridcolor": "white",
             "startlinecolor": "#2a3f5f"
            },
            "baxis": {
             "endlinecolor": "#2a3f5f",
             "gridcolor": "white",
             "linecolor": "white",
             "minorgridcolor": "white",
             "startlinecolor": "#2a3f5f"
            },
            "type": "carpet"
           }
          ],
          "choropleth": [
           {
            "colorbar": {
             "outlinewidth": 0,
             "ticks": ""
            },
            "type": "choropleth"
           }
          ],
          "contour": [
           {
            "colorbar": {
             "outlinewidth": 0,
             "ticks": ""
            },
            "colorscale": [
             [
              0,
              "#0d0887"
             ],
             [
              0.1111111111111111,
              "#46039f"
             ],
             [
              0.2222222222222222,
              "#7201a8"
             ],
             [
              0.3333333333333333,
              "#9c179e"
             ],
             [
              0.4444444444444444,
              "#bd3786"
             ],
             [
              0.5555555555555556,
              "#d8576b"
             ],
             [
              0.6666666666666666,
              "#ed7953"
             ],
             [
              0.7777777777777778,
              "#fb9f3a"
             ],
             [
              0.8888888888888888,
              "#fdca26"
             ],
             [
              1,
              "#f0f921"
             ]
            ],
            "type": "contour"
           }
          ],
          "contourcarpet": [
           {
            "colorbar": {
             "outlinewidth": 0,
             "ticks": ""
            },
            "type": "contourcarpet"
           }
          ],
          "heatmap": [
           {
            "colorbar": {
             "outlinewidth": 0,
             "ticks": ""
            },
            "colorscale": [
             [
              0,
              "#0d0887"
             ],
             [
              0.1111111111111111,
              "#46039f"
             ],
             [
              0.2222222222222222,
              "#7201a8"
             ],
             [
              0.3333333333333333,
              "#9c179e"
             ],
             [
              0.4444444444444444,
              "#bd3786"
             ],
             [
              0.5555555555555556,
              "#d8576b"
             ],
             [
              0.6666666666666666,
              "#ed7953"
             ],
             [
              0.7777777777777778,
              "#fb9f3a"
             ],
             [
              0.8888888888888888,
              "#fdca26"
             ],
             [
              1,
              "#f0f921"
             ]
            ],
            "type": "heatmap"
           }
          ],
          "heatmapgl": [
           {
            "colorbar": {
             "outlinewidth": 0,
             "ticks": ""
            },
            "colorscale": [
             [
              0,
              "#0d0887"
             ],
             [
              0.1111111111111111,
              "#46039f"
             ],
             [
              0.2222222222222222,
              "#7201a8"
             ],
             [
              0.3333333333333333,
              "#9c179e"
             ],
             [
              0.4444444444444444,
              "#bd3786"
             ],
             [
              0.5555555555555556,
              "#d8576b"
             ],
             [
              0.6666666666666666,
              "#ed7953"
             ],
             [
              0.7777777777777778,
              "#fb9f3a"
             ],
             [
              0.8888888888888888,
              "#fdca26"
             ],
             [
              1,
              "#f0f921"
             ]
            ],
            "type": "heatmapgl"
           }
          ],
          "histogram": [
           {
            "marker": {
             "pattern": {
              "fillmode": "overlay",
              "size": 10,
              "solidity": 0.2
             }
            },
            "type": "histogram"
           }
          ],
          "histogram2d": [
           {
            "colorbar": {
             "outlinewidth": 0,
             "ticks": ""
            },
            "colorscale": [
             [
              0,
              "#0d0887"
             ],
             [
              0.1111111111111111,
              "#46039f"
             ],
             [
              0.2222222222222222,
              "#7201a8"
             ],
             [
              0.3333333333333333,
              "#9c179e"
             ],
             [
              0.4444444444444444,
              "#bd3786"
             ],
             [
              0.5555555555555556,
              "#d8576b"
             ],
             [
              0.6666666666666666,
              "#ed7953"
             ],
             [
              0.7777777777777778,
              "#fb9f3a"
             ],
             [
              0.8888888888888888,
              "#fdca26"
             ],
             [
              1,
              "#f0f921"
             ]
            ],
            "type": "histogram2d"
           }
          ],
          "histogram2dcontour": [
           {
            "colorbar": {
             "outlinewidth": 0,
             "ticks": ""
            },
            "colorscale": [
             [
              0,
              "#0d0887"
             ],
             [
              0.1111111111111111,
              "#46039f"
             ],
             [
              0.2222222222222222,
              "#7201a8"
             ],
             [
              0.3333333333333333,
              "#9c179e"
             ],
             [
              0.4444444444444444,
              "#bd3786"
             ],
             [
              0.5555555555555556,
              "#d8576b"
             ],
             [
              0.6666666666666666,
              "#ed7953"
             ],
             [
              0.7777777777777778,
              "#fb9f3a"
             ],
             [
              0.8888888888888888,
              "#fdca26"
             ],
             [
              1,
              "#f0f921"
             ]
            ],
            "type": "histogram2dcontour"
           }
          ],
          "mesh3d": [
           {
            "colorbar": {
             "outlinewidth": 0,
             "ticks": ""
            },
            "type": "mesh3d"
           }
          ],
          "parcoords": [
           {
            "line": {
             "colorbar": {
              "outlinewidth": 0,
              "ticks": ""
             }
            },
            "type": "parcoords"
           }
          ],
          "pie": [
           {
            "automargin": true,
            "type": "pie"
           }
          ],
          "scatter": [
           {
            "fillpattern": {
             "fillmode": "overlay",
             "size": 10,
             "solidity": 0.2
            },
            "type": "scatter"
           }
          ],
          "scatter3d": [
           {
            "line": {
             "colorbar": {
              "outlinewidth": 0,
              "ticks": ""
             }
            },
            "marker": {
             "colorbar": {
              "outlinewidth": 0,
              "ticks": ""
             }
            },
            "type": "scatter3d"
           }
          ],
          "scattercarpet": [
           {
            "marker": {
             "colorbar": {
              "outlinewidth": 0,
              "ticks": ""
             }
            },
            "type": "scattercarpet"
           }
          ],
          "scattergeo": [
           {
            "marker": {
             "colorbar": {
              "outlinewidth": 0,
              "ticks": ""
             }
            },
            "type": "scattergeo"
           }
          ],
          "scattergl": [
           {
            "marker": {
             "colorbar": {
              "outlinewidth": 0,
              "ticks": ""
             }
            },
            "type": "scattergl"
           }
          ],
          "scattermapbox": [
           {
            "marker": {
             "colorbar": {
              "outlinewidth": 0,
              "ticks": ""
             }
            },
            "type": "scattermapbox"
           }
          ],
          "scatterpolar": [
           {
            "marker": {
             "colorbar": {
              "outlinewidth": 0,
              "ticks": ""
             }
            },
            "type": "scatterpolar"
           }
          ],
          "scatterpolargl": [
           {
            "marker": {
             "colorbar": {
              "outlinewidth": 0,
              "ticks": ""
             }
            },
            "type": "scatterpolargl"
           }
          ],
          "scatterternary": [
           {
            "marker": {
             "colorbar": {
              "outlinewidth": 0,
              "ticks": ""
             }
            },
            "type": "scatterternary"
           }
          ],
          "surface": [
           {
            "colorbar": {
             "outlinewidth": 0,
             "ticks": ""
            },
            "colorscale": [
             [
              0,
              "#0d0887"
             ],
             [
              0.1111111111111111,
              "#46039f"
             ],
             [
              0.2222222222222222,
              "#7201a8"
             ],
             [
              0.3333333333333333,
              "#9c179e"
             ],
             [
              0.4444444444444444,
              "#bd3786"
             ],
             [
              0.5555555555555556,
              "#d8576b"
             ],
             [
              0.6666666666666666,
              "#ed7953"
             ],
             [
              0.7777777777777778,
              "#fb9f3a"
             ],
             [
              0.8888888888888888,
              "#fdca26"
             ],
             [
              1,
              "#f0f921"
             ]
            ],
            "type": "surface"
           }
          ],
          "table": [
           {
            "cells": {
             "fill": {
              "color": "#EBF0F8"
             },
             "line": {
              "color": "white"
             }
            },
            "header": {
             "fill": {
              "color": "#C8D4E3"
             },
             "line": {
              "color": "white"
             }
            },
            "type": "table"
           }
          ]
         },
         "layout": {
          "annotationdefaults": {
           "arrowcolor": "#2a3f5f",
           "arrowhead": 0,
           "arrowwidth": 1
          },
          "autotypenumbers": "strict",
          "coloraxis": {
           "colorbar": {
            "outlinewidth": 0,
            "ticks": ""
           }
          },
          "colorscale": {
           "diverging": [
            [
             0,
             "#8e0152"
            ],
            [
             0.1,
             "#c51b7d"
            ],
            [
             0.2,
             "#de77ae"
            ],
            [
             0.3,
             "#f1b6da"
            ],
            [
             0.4,
             "#fde0ef"
            ],
            [
             0.5,
             "#f7f7f7"
            ],
            [
             0.6,
             "#e6f5d0"
            ],
            [
             0.7,
             "#b8e186"
            ],
            [
             0.8,
             "#7fbc41"
            ],
            [
             0.9,
             "#4d9221"
            ],
            [
             1,
             "#276419"
            ]
           ],
           "sequential": [
            [
             0,
             "#0d0887"
            ],
            [
             0.1111111111111111,
             "#46039f"
            ],
            [
             0.2222222222222222,
             "#7201a8"
            ],
            [
             0.3333333333333333,
             "#9c179e"
            ],
            [
             0.4444444444444444,
             "#bd3786"
            ],
            [
             0.5555555555555556,
             "#d8576b"
            ],
            [
             0.6666666666666666,
             "#ed7953"
            ],
            [
             0.7777777777777778,
             "#fb9f3a"
            ],
            [
             0.8888888888888888,
             "#fdca26"
            ],
            [
             1,
             "#f0f921"
            ]
           ],
           "sequentialminus": [
            [
             0,
             "#0d0887"
            ],
            [
             0.1111111111111111,
             "#46039f"
            ],
            [
             0.2222222222222222,
             "#7201a8"
            ],
            [
             0.3333333333333333,
             "#9c179e"
            ],
            [
             0.4444444444444444,
             "#bd3786"
            ],
            [
             0.5555555555555556,
             "#d8576b"
            ],
            [
             0.6666666666666666,
             "#ed7953"
            ],
            [
             0.7777777777777778,
             "#fb9f3a"
            ],
            [
             0.8888888888888888,
             "#fdca26"
            ],
            [
             1,
             "#f0f921"
            ]
           ]
          },
          "colorway": [
           "#636efa",
           "#EF553B",
           "#00cc96",
           "#ab63fa",
           "#FFA15A",
           "#19d3f3",
           "#FF6692",
           "#B6E880",
           "#FF97FF",
           "#FECB52"
          ],
          "font": {
           "color": "#2a3f5f"
          },
          "geo": {
           "bgcolor": "white",
           "lakecolor": "white",
           "landcolor": "#E5ECF6",
           "showlakes": true,
           "showland": true,
           "subunitcolor": "white"
          },
          "hoverlabel": {
           "align": "left"
          },
          "hovermode": "closest",
          "mapbox": {
           "style": "light"
          },
          "paper_bgcolor": "white",
          "plot_bgcolor": "#E5ECF6",
          "polar": {
           "angularaxis": {
            "gridcolor": "white",
            "linecolor": "white",
            "ticks": ""
           },
           "bgcolor": "#E5ECF6",
           "radialaxis": {
            "gridcolor": "white",
            "linecolor": "white",
            "ticks": ""
           }
          },
          "scene": {
           "xaxis": {
            "backgroundcolor": "#E5ECF6",
            "gridcolor": "white",
            "gridwidth": 2,
            "linecolor": "white",
            "showbackground": true,
            "ticks": "",
            "zerolinecolor": "white"
           },
           "yaxis": {
            "backgroundcolor": "#E5ECF6",
            "gridcolor": "white",
            "gridwidth": 2,
            "linecolor": "white",
            "showbackground": true,
            "ticks": "",
            "zerolinecolor": "white"
           },
           "zaxis": {
            "backgroundcolor": "#E5ECF6",
            "gridcolor": "white",
            "gridwidth": 2,
            "linecolor": "white",
            "showbackground": true,
            "ticks": "",
            "zerolinecolor": "white"
           }
          },
          "shapedefaults": {
           "line": {
            "color": "#2a3f5f"
           }
          },
          "ternary": {
           "aaxis": {
            "gridcolor": "white",
            "linecolor": "white",
            "ticks": ""
           },
           "baxis": {
            "gridcolor": "white",
            "linecolor": "white",
            "ticks": ""
           },
           "bgcolor": "#E5ECF6",
           "caxis": {
            "gridcolor": "white",
            "linecolor": "white",
            "ticks": ""
           }
          },
          "title": {
           "x": 0.05
          },
          "xaxis": {
           "automargin": true,
           "gridcolor": "white",
           "linecolor": "white",
           "ticks": "",
           "title": {
            "standoff": 15
           },
           "zerolinecolor": "white",
           "zerolinewidth": 2
          },
          "yaxis": {
           "automargin": true,
           "gridcolor": "white",
           "linecolor": "white",
           "ticks": "",
           "title": {
            "standoff": 15
           },
           "zerolinecolor": "white",
           "zerolinewidth": 2
          }
         }
        },
        "width": 800,
        "xaxis": {
         "anchor": "y",
         "domain": [
          0,
          1
         ],
         "gridcolor": "rgba(0, 0, 0, 0.15)",
         "linecolor": "rgba(0,0,0,0)",
         "linewidth": 1,
         "range": [
          -0.5,
          0.5
         ],
         "scaleanchor": "y",
         "scaleratio": 1,
         "showgrid": false,
         "showticklabels": false,
         "zeroline": false,
         "zerolinecolor": "rgba(0,0,0,0)",
         "zerolinewidth": 1
        },
        "yaxis": {
         "anchor": "x",
         "domain": [
          0,
          1
         ],
         "gridcolor": "rgba(0, 0, 0, 0.15)",
         "linecolor": "rgba(0,0,0,0)",
         "linewidth": 1,
         "range": [
          -0.5,
          0.5
         ],
         "scaleanchor": "x",
         "scaleratio": 1,
         "showgrid": false,
         "showticklabels": false,
         "zeroline": false,
         "zerolinecolor": "rgba(0,0,0,0)",
         "zerolinewidth": 1
        }
       }
      },
      "text/html": [
       "<div>                            <div id=\"87d7169a-640d-47f3-9546-1cd2f1ba83a0\" class=\"plotly-graph-div\" style=\"height:600px; width:800px;\"></div>            <script type=\"text/javascript\">                require([\"plotly\"], function(Plotly) {                    window.PLOTLYENV=window.PLOTLYENV || {};                                    if (document.getElementById(\"87d7169a-640d-47f3-9546-1cd2f1ba83a0\")) {                    Plotly.newPlot(                        \"87d7169a-640d-47f3-9546-1cd2f1ba83a0\",                        [],                        {\"template\":{\"data\":{\"histogram2dcontour\":[{\"type\":\"histogram2dcontour\",\"colorbar\":{\"outlinewidth\":0,\"ticks\":\"\"},\"colorscale\":[[0.0,\"#0d0887\"],[0.1111111111111111,\"#46039f\"],[0.2222222222222222,\"#7201a8\"],[0.3333333333333333,\"#9c179e\"],[0.4444444444444444,\"#bd3786\"],[0.5555555555555556,\"#d8576b\"],[0.6666666666666666,\"#ed7953\"],[0.7777777777777778,\"#fb9f3a\"],[0.8888888888888888,\"#fdca26\"],[1.0,\"#f0f921\"]]}],\"choropleth\":[{\"type\":\"choropleth\",\"colorbar\":{\"outlinewidth\":0,\"ticks\":\"\"}}],\"histogram2d\":[{\"type\":\"histogram2d\",\"colorbar\":{\"outlinewidth\":0,\"ticks\":\"\"},\"colorscale\":[[0.0,\"#0d0887\"],[0.1111111111111111,\"#46039f\"],[0.2222222222222222,\"#7201a8\"],[0.3333333333333333,\"#9c179e\"],[0.4444444444444444,\"#bd3786\"],[0.5555555555555556,\"#d8576b\"],[0.6666666666666666,\"#ed7953\"],[0.7777777777777778,\"#fb9f3a\"],[0.8888888888888888,\"#fdca26\"],[1.0,\"#f0f921\"]]}],\"heatmap\":[{\"type\":\"heatmap\",\"colorbar\":{\"outlinewidth\":0,\"ticks\":\"\"},\"colorscale\":[[0.0,\"#0d0887\"],[0.1111111111111111,\"#46039f\"],[0.2222222222222222,\"#7201a8\"],[0.3333333333333333,\"#9c179e\"],[0.4444444444444444,\"#bd3786\"],[0.5555555555555556,\"#d8576b\"],[0.6666666666666666,\"#ed7953\"],[0.7777777777777778,\"#fb9f3a\"],[0.8888888888888888,\"#fdca26\"],[1.0,\"#f0f921\"]]}],\"heatmapgl\":[{\"type\":\"heatmapgl\",\"colorbar\":{\"outlinewidth\":0,\"ticks\":\"\"},\"colorscale\":[[0.0,\"#0d0887\"],[0.1111111111111111,\"#46039f\"],[0.2222222222222222,\"#7201a8\"],[0.3333333333333333,\"#9c179e\"],[0.4444444444444444,\"#bd3786\"],[0.5555555555555556,\"#d8576b\"],[0.6666666666666666,\"#ed7953\"],[0.7777777777777778,\"#fb9f3a\"],[0.8888888888888888,\"#fdca26\"],[1.0,\"#f0f921\"]]}],\"contourcarpet\":[{\"type\":\"contourcarpet\",\"colorbar\":{\"outlinewidth\":0,\"ticks\":\"\"}}],\"contour\":[{\"type\":\"contour\",\"colorbar\":{\"outlinewidth\":0,\"ticks\":\"\"},\"colorscale\":[[0.0,\"#0d0887\"],[0.1111111111111111,\"#46039f\"],[0.2222222222222222,\"#7201a8\"],[0.3333333333333333,\"#9c179e\"],[0.4444444444444444,\"#bd3786\"],[0.5555555555555556,\"#d8576b\"],[0.6666666666666666,\"#ed7953\"],[0.7777777777777778,\"#fb9f3a\"],[0.8888888888888888,\"#fdca26\"],[1.0,\"#f0f921\"]]}],\"surface\":[{\"type\":\"surface\",\"colorbar\":{\"outlinewidth\":0,\"ticks\":\"\"},\"colorscale\":[[0.0,\"#0d0887\"],[0.1111111111111111,\"#46039f\"],[0.2222222222222222,\"#7201a8\"],[0.3333333333333333,\"#9c179e\"],[0.4444444444444444,\"#bd3786\"],[0.5555555555555556,\"#d8576b\"],[0.6666666666666666,\"#ed7953\"],[0.7777777777777778,\"#fb9f3a\"],[0.8888888888888888,\"#fdca26\"],[1.0,\"#f0f921\"]]}],\"mesh3d\":[{\"type\":\"mesh3d\",\"colorbar\":{\"outlinewidth\":0,\"ticks\":\"\"}}],\"scatter\":[{\"fillpattern\":{\"fillmode\":\"overlay\",\"size\":10,\"solidity\":0.2},\"type\":\"scatter\"}],\"parcoords\":[{\"type\":\"parcoords\",\"line\":{\"colorbar\":{\"outlinewidth\":0,\"ticks\":\"\"}}}],\"scatterpolargl\":[{\"type\":\"scatterpolargl\",\"marker\":{\"colorbar\":{\"outlinewidth\":0,\"ticks\":\"\"}}}],\"bar\":[{\"error_x\":{\"color\":\"#2a3f5f\"},\"error_y\":{\"color\":\"#2a3f5f\"},\"marker\":{\"line\":{\"color\":\"#E5ECF6\",\"width\":0.5},\"pattern\":{\"fillmode\":\"overlay\",\"size\":10,\"solidity\":0.2}},\"type\":\"bar\"}],\"scattergeo\":[{\"type\":\"scattergeo\",\"marker\":{\"colorbar\":{\"outlinewidth\":0,\"ticks\":\"\"}}}],\"scatterpolar\":[{\"type\":\"scatterpolar\",\"marker\":{\"colorbar\":{\"outlinewidth\":0,\"ticks\":\"\"}}}],\"histogram\":[{\"marker\":{\"pattern\":{\"fillmode\":\"overlay\",\"size\":10,\"solidity\":0.2}},\"type\":\"histogram\"}],\"scattergl\":[{\"type\":\"scattergl\",\"marker\":{\"colorbar\":{\"outlinewidth\":0,\"ticks\":\"\"}}}],\"scatter3d\":[{\"type\":\"scatter3d\",\"line\":{\"colorbar\":{\"outlinewidth\":0,\"ticks\":\"\"}},\"marker\":{\"colorbar\":{\"outlinewidth\":0,\"ticks\":\"\"}}}],\"scattermapbox\":[{\"type\":\"scattermapbox\",\"marker\":{\"colorbar\":{\"outlinewidth\":0,\"ticks\":\"\"}}}],\"scatterternary\":[{\"type\":\"scatterternary\",\"marker\":{\"colorbar\":{\"outlinewidth\":0,\"ticks\":\"\"}}}],\"scattercarpet\":[{\"type\":\"scattercarpet\",\"marker\":{\"colorbar\":{\"outlinewidth\":0,\"ticks\":\"\"}}}],\"carpet\":[{\"aaxis\":{\"endlinecolor\":\"#2a3f5f\",\"gridcolor\":\"white\",\"linecolor\":\"white\",\"minorgridcolor\":\"white\",\"startlinecolor\":\"#2a3f5f\"},\"baxis\":{\"endlinecolor\":\"#2a3f5f\",\"gridcolor\":\"white\",\"linecolor\":\"white\",\"minorgridcolor\":\"white\",\"startlinecolor\":\"#2a3f5f\"},\"type\":\"carpet\"}],\"table\":[{\"cells\":{\"fill\":{\"color\":\"#EBF0F8\"},\"line\":{\"color\":\"white\"}},\"header\":{\"fill\":{\"color\":\"#C8D4E3\"},\"line\":{\"color\":\"white\"}},\"type\":\"table\"}],\"barpolar\":[{\"marker\":{\"line\":{\"color\":\"#E5ECF6\",\"width\":0.5},\"pattern\":{\"fillmode\":\"overlay\",\"size\":10,\"solidity\":0.2}},\"type\":\"barpolar\"}],\"pie\":[{\"automargin\":true,\"type\":\"pie\"}]},\"layout\":{\"autotypenumbers\":\"strict\",\"colorway\":[\"#636efa\",\"#EF553B\",\"#00cc96\",\"#ab63fa\",\"#FFA15A\",\"#19d3f3\",\"#FF6692\",\"#B6E880\",\"#FF97FF\",\"#FECB52\"],\"font\":{\"color\":\"#2a3f5f\"},\"hovermode\":\"closest\",\"hoverlabel\":{\"align\":\"left\"},\"paper_bgcolor\":\"white\",\"plot_bgcolor\":\"#E5ECF6\",\"polar\":{\"bgcolor\":\"#E5ECF6\",\"angularaxis\":{\"gridcolor\":\"white\",\"linecolor\":\"white\",\"ticks\":\"\"},\"radialaxis\":{\"gridcolor\":\"white\",\"linecolor\":\"white\",\"ticks\":\"\"}},\"ternary\":{\"bgcolor\":\"#E5ECF6\",\"aaxis\":{\"gridcolor\":\"white\",\"linecolor\":\"white\",\"ticks\":\"\"},\"baxis\":{\"gridcolor\":\"white\",\"linecolor\":\"white\",\"ticks\":\"\"},\"caxis\":{\"gridcolor\":\"white\",\"linecolor\":\"white\",\"ticks\":\"\"}},\"coloraxis\":{\"colorbar\":{\"outlinewidth\":0,\"ticks\":\"\"}},\"colorscale\":{\"sequential\":[[0.0,\"#0d0887\"],[0.1111111111111111,\"#46039f\"],[0.2222222222222222,\"#7201a8\"],[0.3333333333333333,\"#9c179e\"],[0.4444444444444444,\"#bd3786\"],[0.5555555555555556,\"#d8576b\"],[0.6666666666666666,\"#ed7953\"],[0.7777777777777778,\"#fb9f3a\"],[0.8888888888888888,\"#fdca26\"],[1.0,\"#f0f921\"]],\"sequentialminus\":[[0.0,\"#0d0887\"],[0.1111111111111111,\"#46039f\"],[0.2222222222222222,\"#7201a8\"],[0.3333333333333333,\"#9c179e\"],[0.4444444444444444,\"#bd3786\"],[0.5555555555555556,\"#d8576b\"],[0.6666666666666666,\"#ed7953\"],[0.7777777777777778,\"#fb9f3a\"],[0.8888888888888888,\"#fdca26\"],[1.0,\"#f0f921\"]],\"diverging\":[[0,\"#8e0152\"],[0.1,\"#c51b7d\"],[0.2,\"#de77ae\"],[0.3,\"#f1b6da\"],[0.4,\"#fde0ef\"],[0.5,\"#f7f7f7\"],[0.6,\"#e6f5d0\"],[0.7,\"#b8e186\"],[0.8,\"#7fbc41\"],[0.9,\"#4d9221\"],[1,\"#276419\"]]},\"xaxis\":{\"gridcolor\":\"white\",\"linecolor\":\"white\",\"ticks\":\"\",\"title\":{\"standoff\":15},\"zerolinecolor\":\"white\",\"automargin\":true,\"zerolinewidth\":2},\"yaxis\":{\"gridcolor\":\"white\",\"linecolor\":\"white\",\"ticks\":\"\",\"title\":{\"standoff\":15},\"zerolinecolor\":\"white\",\"automargin\":true,\"zerolinewidth\":2},\"scene\":{\"xaxis\":{\"backgroundcolor\":\"#E5ECF6\",\"gridcolor\":\"white\",\"linecolor\":\"white\",\"showbackground\":true,\"ticks\":\"\",\"zerolinecolor\":\"white\",\"gridwidth\":2},\"yaxis\":{\"backgroundcolor\":\"#E5ECF6\",\"gridcolor\":\"white\",\"linecolor\":\"white\",\"showbackground\":true,\"ticks\":\"\",\"zerolinecolor\":\"white\",\"gridwidth\":2},\"zaxis\":{\"backgroundcolor\":\"#E5ECF6\",\"gridcolor\":\"white\",\"linecolor\":\"white\",\"showbackground\":true,\"ticks\":\"\",\"zerolinecolor\":\"white\",\"gridwidth\":2}},\"shapedefaults\":{\"line\":{\"color\":\"#2a3f5f\"}},\"annotationdefaults\":{\"arrowcolor\":\"#2a3f5f\",\"arrowhead\":0,\"arrowwidth\":1},\"geo\":{\"bgcolor\":\"white\",\"landcolor\":\"#E5ECF6\",\"subunitcolor\":\"white\",\"showland\":true,\"showlakes\":true,\"lakecolor\":\"white\"},\"title\":{\"x\":0.05},\"mapbox\":{\"style\":\"light\"}}},\"xaxis\":{\"anchor\":\"y\",\"domain\":[0.0,1.0],\"range\":[-0.5,0.5],\"showticklabels\":false,\"showgrid\":false,\"zeroline\":false,\"scaleanchor\":\"y\",\"scaleratio\":1,\"linecolor\":\"rgba(0,0,0,0)\",\"linewidth\":1,\"gridcolor\":\"rgba(0, 0, 0, 0.15)\",\"zerolinecolor\":\"rgba(0,0,0,0)\",\"zerolinewidth\":1},\"yaxis\":{\"anchor\":\"x\",\"domain\":[0.0,1.0],\"range\":[-0.5,0.5],\"showticklabels\":false,\"showgrid\":false,\"zeroline\":false,\"scaleanchor\":\"x\",\"scaleratio\":1,\"linecolor\":\"rgba(0,0,0,0)\",\"linewidth\":1,\"gridcolor\":\"rgba(0, 0, 0, 0.15)\",\"zerolinecolor\":\"rgba(0,0,0,0)\",\"zerolinewidth\":1},\"annotations\":[{\"font\":{\"color\":\"rgba(33.0000,33.0000,33.0000,1.0000)\",\"size\":18},\"showarrow\":false,\"text\":\"oriC\",\"textangle\":0.0,\"x\":0.0,\"y\":0.36,\"yanchor\":\"bottom\"},{\"align\":\"left\",\"font\":{\"color\":\"rgba(33.0000,33.0000,33.0000,1.0000)\",\"size\":18},\"showarrow\":false,\"text\":\"mcrA\",\"textangle\":0.0,\"x\":0.4587844855500507,\"xanchor\":\"left\",\"y\":0.10040827592425133,\"yanchor\":\"top\"},{\"align\":\"left\",\"font\":{\"color\":\"rgba(33.0000,33.0000,33.0000,1.0000)\",\"size\":18},\"showarrow\":false,\"text\":\"\\u0394(mrr-hsdRMS-mcrBC)\",\"textangle\":0.0,\"x\":0.34430442275564554,\"xanchor\":\"left\",\"y\":0.3300114954230709,\"yanchor\":\"top\"},{\"align\":\"left\",\"font\":{\"color\":\"rgba(33.0000,33.0000,33.0000,1.0000)\",\"size\":18},\"showarrow\":false,\"text\":\"\\u03c680dlacZ\\u0394M15\\u003cbr\\u003e\\u0394lacX74\",\"textangle\":0.0,\"x\":0.15984009729905532,\"xanchor\":\"left\",\"y\":-0.43562201195624456,\"yanchor\":\"top\"},{\"align\":\"right\",\"font\":{\"color\":\"rgba(33.0000,33.0000,33.0000,1.0000)\",\"size\":18},\"showarrow\":false,\"text\":\"recA1\",\"textangle\":0.0,\"x\":-0.46488094902795135,\"xanchor\":\"right\",\"y\":0.05578579420152399,\"yanchor\":\"top\"},{\"align\":\"right\",\"font\":{\"color\":\"rgba(33.0000,33.0000,33.0000,1.0000)\",\"size\":18},\"showarrow\":false,\"text\":\"endA1\\u003cbr\\u003enupG\",\"textangle\":0.0,\"x\":-0.416542979828345,\"xanchor\":\"right\",\"y\":0.2254037160639059,\"yanchor\":\"top\"},{\"align\":\"left\",\"font\":{\"color\":\"rgba(33.0000,33.0000,33.0000,1.0000)\",\"size\":18},\"showarrow\":false,\"text\":\"DHFR (folA)\\u003cbr\\u003earaD139\\u003cbr\\u003e\\u0394(ara, leu)7697\",\"textangle\":0.0,\"x\":0.3815827604956661,\"xanchor\":\"left\",\"y\":0.28364916651701133,\"yanchor\":\"top\"},{\"align\":\"left\",\"font\":{\"color\":\"rgba(33.0000,33.0000,33.0000,1.0000)\",\"size\":18},\"showarrow\":false,\"text\":\"galU\",\"textangle\":0.0,\"x\":0.20942870579117634,\"xanchor\":\"left\",\"y\":-0.39203404533492303,\"yanchor\":\"top\"},{\"align\":\"left\",\"font\":{\"color\":\"rgba(33.0000,33.0000,33.0000,1.0000)\",\"size\":18},\"showarrow\":false,\"text\":\"galK\",\"textangle\":0.0,\"x\":0.4204393247002154,\"xanchor\":\"left\",\"y\":-0.1875056839286358,\"yanchor\":\"top\"},{\"align\":\"right\",\"font\":{\"color\":\"rgba(33.0000,33.0000,33.0000,1.0000)\",\"size\":18},\"showarrow\":false,\"text\":\"rpsL\",\"textangle\":0.0,\"x\":-0.2651521026891456,\"xanchor\":\"right\",\"y\":0.3990210153328885,\"yanchor\":\"top\"},{\"align\":\"right\",\"font\":{\"color\":\"rgba(33.0000,33.0000,33.0000,1.0000)\",\"size\":18},\"showarrow\":false,\"text\":\"trfA\",\"textangle\":0.0,\"x\":-0.43170982445098083,\"xanchor\":\"right\",\"y\":-0.1622128811635346,\"yanchor\":\"top\"},{\"align\":\"right\",\"font\":{\"color\":\"rgba(33.0000,33.0000,33.0000,1.0000)\",\"size\":18},\"showarrow\":false,\"text\":\"\",\"textangle\":0.0,\"x\":0.007440125225480585,\"xanchor\":\"right\",\"y\":0.30823896224934644,\"yanchor\":\"top\"},{\"align\":\"right\",\"font\":{\"color\":\"rgba(33.0000,33.0000,33.0000,1.0000)\",\"size\":18},\"showarrow\":false,\"text\":\"\",\"textangle\":0.0,\"x\":0.04409201450416231,\"xanchor\":\"right\",\"y\":0.3050005839673589,\"yanchor\":\"top\"},{\"align\":\"right\",\"font\":{\"color\":\"rgba(33.0000,33.0000,33.0000,1.0000)\",\"size\":18},\"showarrow\":false,\"text\":\"\",\"textangle\":0.0,\"x\":0.09436957926754008,\"xanchor\":\"right\",\"y\":0.2927387746666135,\"yanchor\":\"top\"},{\"align\":\"right\",\"font\":{\"color\":\"rgba(33.0000,33.0000,33.0000,1.0000)\",\"size\":18},\"showarrow\":false,\"text\":\"\",\"textangle\":0.0,\"x\":0.10964798212335965,\"xanchor\":\"right\",\"y\":0.2870694111081212,\"yanchor\":\"top\"},{\"align\":\"right\",\"font\":{\"color\":\"rgba(33.0000,33.0000,33.0000,1.0000)\",\"size\":18},\"showarrow\":false,\"text\":\"\",\"textangle\":0.0,\"x\":0.2688325372450172,\"xanchor\":\"right\",\"y\":0.1323606039642386,\"yanchor\":\"top\"},{\"align\":\"left\",\"font\":{\"color\":\"rgba(33.0000,33.0000,33.0000,1.0000)\",\"size\":18},\"showarrow\":false,\"text\":\"\",\"textangle\":0.0,\"x\":-0.29305571131278035,\"xanchor\":\"left\",\"y\":0.0022409047575950355,\"yanchor\":\"top\"},{\"align\":\"left\",\"font\":{\"color\":\"rgba(33.0000,33.0000,33.0000,1.0000)\",\"size\":18},\"showarrow\":false,\"text\":\"\",\"textangle\":0.0,\"x\":-0.1826991602246576,\"xanchor\":\"left\",\"y\":0.24448956686012835,\"yanchor\":\"top\"},{\"align\":\"right\",\"font\":{\"color\":\"rgba(33.0000,33.0000,33.0000,1.0000)\",\"size\":18},\"showarrow\":false,\"text\":\"\",\"textangle\":0.0,\"x\":0.007440125225480585,\"xanchor\":\"right\",\"y\":0.30823896224934644,\"yanchor\":\"top\"},{\"align\":\"right\",\"font\":{\"color\":\"rgba(33.0000,33.0000,33.0000,1.0000)\",\"size\":18},\"showarrow\":false,\"text\":\"\",\"textangle\":0.0,\"x\":0.04409201450416231,\"xanchor\":\"right\",\"y\":0.3050005839673589,\"yanchor\":\"top\"},{\"align\":\"right\",\"font\":{\"color\":\"rgba(33.0000,33.0000,33.0000,1.0000)\",\"size\":18},\"showarrow\":false,\"text\":\"\",\"textangle\":0.0,\"x\":0.09436957926754008,\"xanchor\":\"right\",\"y\":0.2927387746666135,\"yanchor\":\"top\"},{\"align\":\"right\",\"font\":{\"color\":\"rgba(33.0000,33.0000,33.0000,1.0000)\",\"size\":18},\"showarrow\":false,\"text\":\"\",\"textangle\":0.0,\"x\":0.10964798212335965,\"xanchor\":\"right\",\"y\":0.2870694111081212,\"yanchor\":\"top\"},{\"align\":\"right\",\"font\":{\"color\":\"rgba(33.0000,33.0000,33.0000,1.0000)\",\"size\":18},\"showarrow\":false,\"text\":\"\",\"textangle\":0.0,\"x\":0.2688325372450172,\"xanchor\":\"right\",\"y\":0.1323606039642386,\"yanchor\":\"top\"},{\"align\":\"left\",\"font\":{\"color\":\"rgba(33.0000,33.0000,33.0000,1.0000)\",\"size\":18},\"showarrow\":false,\"text\":\"\",\"textangle\":0.0,\"x\":-0.29305571131278035,\"xanchor\":\"left\",\"y\":0.0022409047575950355,\"yanchor\":\"top\"},{\"align\":\"left\",\"font\":{\"color\":\"rgba(33.0000,33.0000,33.0000,1.0000)\",\"size\":18},\"showarrow\":false,\"text\":\"\",\"textangle\":0.0,\"x\":-0.1826991602246576,\"xanchor\":\"left\",\"y\":0.24448956686012835,\"yanchor\":\"top\"}],\"shapes\":[{\"fillcolor\":\"rgba(33.0000,33.0000,33.0000,1.0000)\",\"fillrule\":\"nonzero\",\"layer\":\"above\",\"line\":{\"color\":\"black\",\"width\":0},\"path\":\"M 0.0,0.3333333333333333 L 0.013333333333333332,0.36 L -0.013333333333333332,0.36 Z M 2.0206672185931326e-17,0.32999999999999996 L 0.01619233252804798,0.3296025005477069 L 0.03234565630875505,0.32841095980182494 L 0.04842105657026938,0.3264282482883777 L 0.06437980626532235,0.32365914253306605 L 0.08018345936807711,0.3201103135541995 L 0.09579394349397258,0.3157903107916289 L 0.11117365161943261,0.31070954151039687 L 0.12628553268047965,0.30488024572872463 L 0.14109318083199313,0.2983164667307363 L 0.15556092315257927,0.29103401723495714 L 0.16965390558376314,0.2830504413000898 L 0.18333817689646875,0.2743849720598399 L 0.19658077048250303,0.26505848538861276 L 0.20934978377400298,0.2550934496097032 L 0.22161445509951605,0.24451387136713648 L 0.2333452377915607,0.23334523779156063 L 0.24451387136713648,0.22161445509951605 L 0.2550934496097032,0.20934978377400298 L 0.2650584853886128,0.196580770482503 L 0.2743849720598399,0.18333817689646872 L 0.2830504413000898,0.16965390558376314 L 0.29103401723495714,0.15556092315257924 L 0.2983164667307363,0.1410931808319931 L 0.30488024572872463,0.12628553268047962 L 0.31070954151039687,0.1111736516194326 L 0.3157903107916289,0.09579394349397255 L 0.3201103135541995,0.08018345936807708 L 0.32365914253306605,0.06437980626532232 L 0.3264282482883777,0.04842105657026936 L 0.328410959801825,0.032345656308755036 L 0.3296025005477069,0.016192332528047963 L 0.32999999999999996,0.0 L 0.3296025005477069,-0.016192332528047963 L 0.328410959801825,-0.032345656308755036 L 0.3264282482883777,-0.04842105657026936 L 0.32365914253306605,-0.06437980626532232 L 0.3201103135541995,-0.08018345936807708 L 0.3157903107916289,-0.09579394349397255 L 0.31070954151039687,-0.1111736516194326 L 0.30488024572872463,-0.12628553268047962 L 0.2983164667307363,-0.14109318083199301 L 0.29103401723495714,-0.15556092315257924 L 0.2830504413000898,-0.16965390558376314 L 0.2743849720598399,-0.1833381768964687 L 0.2650584853886128,-0.196580770482503 L 0.2550934496097032,-0.20934978377400296 L 0.24451387136713645,-0.2216144550995161 L 0.2333452377915607,-0.23334523779156063 L 0.2216144550995161,-0.24451387136713645 L 0.20934978377400298,-0.2550934496097032 L 0.19658077048250303,-0.26505848538861276 L 0.1833381768964687,-0.2743849720598399 L 0.16965390558376314,-0.2830504413000898 L 0.15556092315257927,-0.29103401723495714 L 0.14109318083199304,-0.2983164667307363 L 0.12628553268047965,-0.30488024572872463 L 0.11117365161943268,-0.3107095415103968 L 0.09579394349397258,-0.3157903107916289 L 0.08018345936807711,-0.3201103135541995 L 0.06437980626532241,-0.32365914253306605 L 0.04842105657026938,-0.3264282482883777 L 0.03234565630875505,-0.32841095980182494 L 0.016192332528047908,-0.3296025005477069 L 2.0206672185931326e-17,-0.32999999999999996 L -0.016192332528047866,-0.3296025005477069 L -0.03234565630875501,-0.328410959801825 L -0.048421056570269336,-0.3264282482883777 L -0.06437980626532237,-0.32365914253306605 L -0.08018345936807708,-0.3201103135541995 L -0.09579394349397252,-0.3157903107916289 L -0.11117365161943266,-0.3107095415103968 L -0.1262855326804796,-0.30488024572872463 L -0.14109318083199301,-0.2983164667307363 L -0.15556092315257924,-0.29103401723495714 L -0.16965390558376314,-0.2830504413000898 L -0.18333817689646864,-0.27438497205983997 L -0.196580770482503,-0.2650584853886128 L -0.20934978377400296,-0.25509344960970326 L -0.22161445509951608,-0.24451387136713645 L -0.23334523779156063,-0.2333452377915607 L -0.24451387136713643,-0.2216144550995161 L -0.2550934496097031,-0.2093497837740031 L -0.2650584853886129,-0.19658077048250291 L -0.2743849720598399,-0.18333817689646872 L -0.2830504413000897,-0.16965390558376317 L -0.29103401723495714,-0.1555609231525793 L -0.2983164667307362,-0.14109318083199318 L -0.3048802457287245,-0.1262855326804798 L -0.31070954151039687,-0.11117365161943256 L -0.3157903107916289,-0.09579394349397258 L -0.3201103135541995,-0.08018345936807714 L -0.32365914253306605,-0.06437980626532244 L -0.3264282482883777,-0.048421056570269544 L -0.328410959801825,-0.032345656308754925 L -0.3296025005477069,-0.01619233252804793 L -0.32999999999999996,-4.041334437186265e-17 L -0.3296025005477069,0.016192332528047845 L -0.328410959801825,0.03234565630875484 L -0.3264282482883777,0.04842105657026946 L -0.32365914253306605,0.06437980626532236 L -0.3201103135541995,0.08018345936807705 L -0.3157903107916289,0.0957939434939725 L -0.31070954151039687,0.11117365161943249 L -0.3048802457287246,0.1262855326804797 L -0.29831646673073625,0.14109318083199313 L -0.29103401723495714,0.15556092315257922 L -0.2830504413000898,0.1696539055837631 L -0.27438497205983997,0.18333817689646864 L -0.26505848538861293,0.19658077048250283 L -0.25509344960970315,0.20934978377400304 L -0.24451387136713648,0.22161445509951608 L -0.23334523779156072,0.23334523779156063 L -0.22161445509951616,0.24451387136713643 L -0.20934978377400315,0.2550934496097031 L -0.19658077048250291,0.2650584853886129 L -0.18333817689646872,0.2743849720598399 L -0.16965390558376317,0.2830504413000897 L -0.1555609231525793,0.29103401723495714 L -0.1410931808319932,0.2983164667307362 L -0.12628553268047982,0.3048802457287245 L -0.11117365161943257,0.31070954151039687 L -0.09579394349397259,0.3157903107916289 L -0.08018345936807715,0.3201103135541995 L -0.06437980626532246,0.323659142533066 L -0.04842105657026956,0.3264282482883777 L -0.032345656308754946,0.328410959801825 L -0.01619233252804795,0.3296025005477069 L -6.062001655779397e-17,0.32999999999999996 L -6.184466335694134e-17,0.33666666666666667 L -0.016519450356897402,0.33626113692240805 L -0.03299910391095202,0.33504552464630627 L -0.049399259733305306,0.33302275835480954 L -0.06568040841209664,0.3301977110690875 L -0.08180332723409892,0.32657718857549645 L -0.09772917467566902,0.32216991302984366 L -0.11341958397538071,0.3169865019449503 L -0.12883675556291374,0.3110394426121331 L -0.14394354812152843,0.3043430620182258 L -0.1587035680647526,0.2969134923306128 L -0.173081257211718,0.2887686320334249 L -0.1870419784499327,0.27992810280852354 L -0.20055209917911915,0.2704132022651505 L -0.21357907233509413,0.26024685263212133 L -0.22609151479849626,0.2494535455361695 L -0.23805928299947104,0.238059282999471 L -0.24945354553616955,0.2260915147984962 L -0.2602468526321214,0.21357907233509402 L -0.27041320226515053,0.2005520991791191 L -0.27992810280852365,0.18704197844993264 L -0.28876863203342495,0.1730812572117179 L -0.2969134923306128,0.15870356806475253 L -0.30434306201822586,0.14394354812152832 L -0.3110394426121331,0.12883675556291363 L -0.31698650194495037,0.11341958397538061 L -0.32216991302984366,0.0977291746756689 L -0.32657718857549645,0.0818033272340988 L -0.3301977110690876,0.06568040841209655 L -0.33302275835480954,0.0493992597333052 L -0.33504552464630627,0.03299910391095191 L -0.33626113692240805,0.0165194503568973 L -0.33666666666666667,-4.1229775571294224e-17 L -0.33626113692240805,-0.01651945035689738 L -0.33504552464630627,-0.032999103910951996 L -0.33302275835480954,-0.049399259733305285 L -0.3301977110690876,-0.06568040841209663 L -0.32657718857549645,-0.0818033272340989 L -0.32216991302984366,-0.09772917467566901 L -0.3169865019449503,-0.11341958397538068 L -0.3110394426121331,-0.1288367555629137 L -0.3043430620182258,-0.1439435481215284 L -0.2969134923306128,-0.1587035680647526 L -0.2887686320334249,-0.173081257211718 L -0.2799281028085236,-0.1870419784499327 L -0.2704132022651505,-0.20055209917911915 L -0.26024685263212133,-0.2135790723350941 L -0.2494535455361695,-0.22609151479849623 L -0.238059282999471,-0.23805928299947102 L -0.2260915147984962,-0.24945354553616952 L -0.21357907233509393,-0.26024685263212144 L -0.20055209917911923,-0.2704132022651504 L -0.18704197844993264,-0.27992810280852365 L -0.17308125721171796,-0.28876863203342495 L -0.15870356806475255,-0.2969134923306128 L -0.1439435481215282,-0.3043430620182259 L -0.12883675556291352,-0.3110394426121332 L -0.11341958397538078,-0.31698650194495026 L -0.09772917467566891,-0.32216991302984366 L -0.08180332723409883,-0.32657718857549645 L -0.06568040841209656,-0.3301977110690876 L -0.049399259733305084,-0.3330227583548096 L -0.03299910391095208,-0.33504552464630627 L -0.016519450356897322,-0.33626113692240805 L 2.0614887785647112e-17,-0.33666666666666667 L 0.01651945035689736,-0.33626113692240805 L 0.03299910391095212,-0.33504552464630627 L 0.04939925973330512,-0.3330227583548096 L 0.0656804084120966,-0.3301977110690876 L 0.08180332723409887,-0.32657718857549645 L 0.09772917467566897,-0.32216991302984366 L 0.11341958397538082,-0.31698650194495026 L 0.12883675556291357,-0.3110394426121332 L 0.14394354812152826,-0.3043430620182259 L 0.15870356806475258,-0.2969134923306128 L 0.17308125721171796,-0.28876863203342495 L 0.18704197844993267,-0.2799281028085236 L 0.20055209917911926,-0.2704132022651504 L 0.213579072335094,-0.26024685263212144 L 0.22609151479849623,-0.24945354553616952 L 0.23805928299947102,-0.238059282999471 L 0.24945354553616952,-0.22609151479849623 L 0.26024685263212144,-0.21357907233509393 L 0.2704132022651504,-0.20055209917911923 L 0.2799281028085236,-0.18704197844993267 L 0.28876863203342495,-0.17308125721171796 L 0.2969134923306128,-0.15870356806475255 L 0.3043430620182259,-0.14394354812152824 L 0.3110394426121332,-0.12883675556291355 L 0.3169865019449503,-0.11341958397538073 L 0.32216991302984366,-0.09772917467566895 L 0.32657718857549645,-0.08180332723409886 L 0.3301977110690876,-0.0656804084120965 L 0.3330227583548096,-0.0493992597333051 L 0.33504552464630627,-0.03299910391095211 L 0.33626113692240805,-0.016519450356897416 L 0.33666666666666667,0.0 L 0.33626113692240805,0.016519450356897416 L 0.33504552464630627,0.03299910391095211 L 0.3330227583548096,0.0493992597333051 L 0.3301977110690876,0.0656804084120965 L 0.32657718857549645,0.08180332723409886 L 0.32216991302984366,0.09772917467566895 L 0.3169865019449503,0.11341958397538073 L 0.3110394426121332,0.12883675556291355 L 0.3043430620182259,0.14394354812152832 L 0.2969134923306128,0.15870356806475255 L 0.28876863203342495,0.17308125721171796 L 0.27992810280852354,0.1870419784499327 L 0.2704132022651504,0.20055209917911923 L 0.26024685263212144,0.213579072335094 L 0.24945354553616955,0.22609151479849615 L 0.23805928299947102,0.238059282999471 L 0.22609151479849615,0.24945354553616955 L 0.213579072335094,0.26024685263212144 L 0.20055209917911926,0.2704132022651504 L 0.18704197844993276,0.27992810280852354 L 0.17308125721171796,0.28876863203342495 L 0.15870356806475258,0.2969134923306128 L 0.14394354812152832,0.3043430620182259 L 0.12883675556291357,0.3110394426121332 L 0.11341958397538074,0.3169865019449503 L 0.09772917467566897,0.32216991302984366 L 0.08180332723409887,0.32657718857549645 L 0.06568040841209653,0.3301977110690876 L 0.04939925973330512,0.3330227583548096 L 0.03299910391095212,0.33504552464630627 L 0.016519450356897433,0.33626113692240805 L 2.0614887785647112e-17,0.33666666666666667 Z\",\"type\":\"path\",\"xref\":\"x\",\"yref\":\"y\"},{\"fillcolor\":\"rgba(33.0000,33.0000,33.0000,1.0000)\",\"fillrule\":\"nonzero\",\"layer\":\"above\",\"line\":{\"color\":\"black\",\"width\":0},\"path\":\"M 0.32770320396432195,0.061005911374465246 L 0.32800413596872374,0.05936663960948174 L 0.45920579035621323,0.08311329545327442 L 0.4587844855500507,0.08540827592425133 Z M 0.24593173053974685,0.22500821101647922 L 0.24705369276693678,0.22377574489057367 L 0.3458751698737115,0.3132860428468031 L 0.34430442275564554,0.3150114954230709 Z M 0.1284572123564681,-0.30758715139731757 L 0.12691767729572997,-0.30822558995152893 L 0.17768474821402194,-0.43151582593214044 L 0.1798400972990553,-0.43062201195624455 Z M -0.33205782073425094,0.029132710143945712 L -0.3319080070763501,0.030792628171636173 L -0.46467120990689015,0.043109679440290635 L -0.46488094902795135,0.04078579420152399 Z M -0.2975306998773893,0.15028836861707565 L -0.2967755420393074,0.15177413731722011 L -0.4154857588550303,0.21248379224410813 L -0.416542979828345,0.2104037160639059 Z M 0.2725591146397615,0.19189226179786523 L 0.2735151649691653,0.19052707325469892 L 0.38292123095683134,0.2667379025565785 L 0.3815827604956661,0.2686491665170113 Z M 0.1495919327079831,-0.2978814609535165 L 0.14810066171380834,-0.29862569399005706 L 0.20734092639933166,-0.41807597158607984 L 0.20942870579117634,-0.41703404533492305 Z M 0.30031380335729674,-0.14464691709188277 L 0.2995868178705897,-0.14614667176944265 L 0.41942154501882556,-0.2046053404772197 L 0.4204393247002154,-0.20250568392863583 Z M -0.1893943590636754,0.2743007252377775 L -0.18802049372752172,0.27524426433546273 L -0.2632286912185304,0.38534197006964777 L -0.2651521026891456,0.38402101533288846 Z M -0.3083641603221292,-0.12658062940252474 L -0.3089932062880749,-0.12503723277058826 L -0.43259048880330486,-0.17505212587882357 L -0.43170982445098083,-0.17721288116353462 Z\",\"type\":\"path\",\"xref\":\"x\",\"yref\":\"y\"},{\"fillcolor\":\"rgba(255.0000,0.0000,0.0000,1.0000)\",\"fillrule\":\"nonzero\",\"layer\":\"above\",\"line\":{\"color\":\"black\",\"width\":0},\"path\":\"M 0.007440125225480584,0.29323896224934637 L 0.008906220926218374,0.2931980962988297 L 0.010120705597975427,0.33317965488503376 L 0.008454687756227937,0.33322609346516635 Z M 0.044092014504162294,0.29000058396735884 L 0.04554146023329478,0.28977649981367304 L 0.05175165935601679,0.32929147706099215 L 0.05010456193654807,0.329546118144726 Z M 0.09436957926754005,0.27773877466661345 L 0.0957570877373726,0.27726345700885563 L 0.10881487242883253,0.315072110237336 L 0.10723815825856826,0.3156122439393335 Z M 0.10964798212335963,0.2720694111081211 L 0.11100695291387343,0.27151777262128074 L 0.12614426467485618,0.3085429234332736 L 0.12459997968563596,0.30916978535013767 Z M 0.2688325372450172,0.1173606039642386 L 0.26941597742011414,0.1160149798741911 L 0.3061545197955843,0.13183520440248991 L 0.3054915195966105,0.13336432268663478 Z M -0.2930557113127803,-0.012759095242404964 L -0.2931158433344184,-0.011293663302802518 L -0.33308618560729375,-0.012833708298639227 L -0.33301785376452314,-0.014498971866369278 Z M -0.18269916022465754,0.22948956686012834 L -0.18154943343663857,0.23040019024141437 L -0.2063061743598166,0.2618183980016073 L -0.20761268207347452,0.2607835987046913 Z M 0.007440125225480584,0.29323896224934637 L 0.008906220926218374,0.2931980962988297 L 0.010120705597975427,0.33317965488503376 L 0.008454687756227937,0.33322609346516635 Z M 0.044092014504162294,0.29000058396735884 L 0.04554146023329478,0.28977649981367304 L 0.05175165935601679,0.32929147706099215 L 0.05010456193654807,0.329546118144726 Z M 0.09436957926754005,0.27773877466661345 L 0.0957570877373726,0.27726345700885563 L 0.10881487242883253,0.315072110237336 L 0.10723815825856826,0.3156122439393335 Z M 0.10964798212335963,0.2720694111081211 L 0.11100695291387343,0.27151777262128074 L 0.12614426467485618,0.3085429234332736 L 0.12459997968563596,0.30916978535013767 Z M 0.2688325372450172,0.1173606039642386 L 0.26941597742011414,0.1160149798741911 L 0.3061545197955843,0.13183520440248991 L 0.3054915195966105,0.13336432268663478 Z M -0.2930557113127803,-0.012759095242404964 L -0.2931158433344184,-0.011293663302802518 L -0.33308618560729375,-0.012833708298639227 L -0.33301785376452314,-0.014498971866369278 Z M -0.18269916022465754,0.22948956686012834 L -0.18154943343663857,0.23040019024141437 L -0.2063061743598166,0.2618183980016073 L -0.20761268207347452,0.2607835987046913 Z\",\"type\":\"path\",\"xref\":\"x\",\"yref\":\"y\"}],\"margin\":{\"l\":15,\"r\":15,\"b\":15,\"t\":15,\"pad\":5},\"paper_bgcolor\":\"white\",\"plot_bgcolor\":\"white\",\"dragmode\":\"pan\",\"showlegend\":false,\"font\":{\"family\":\"Arial\"},\"legend\":{\"font\":{\"size\":12}},\"width\":800,\"height\":600},                        {\"scrollZoom\": false, \"responsive\": true}                    ).then(function(){\n",
       "                            \n",
       "var gd = document.getElementById('87d7169a-640d-47f3-9546-1cd2f1ba83a0');\n",
       "var x = new MutationObserver(function (mutations, observer) {{\n",
       "        var display = window.getComputedStyle(gd).display;\n",
       "        if (!display || display === 'none') {{\n",
       "            console.log([gd, 'removed!']);\n",
       "            Plotly.purge(gd);\n",
       "            observer.disconnect();\n",
       "        }}\n",
       "}});\n",
       "\n",
       "// Listen for the removal of the full notebook cells\n",
       "var notebookContainer = gd.closest('#notebook-container');\n",
       "if (notebookContainer) {{\n",
       "    x.observe(notebookContainer, {childList: true});\n",
       "}}\n",
       "\n",
       "// Listen for the clearing of the current output cell\n",
       "var outputEl = gd.closest('.output');\n",
       "if (outputEl) {{\n",
       "    x.observe(outputEl, {childList: true});\n",
       "}}\n",
       "\n",
       "                        })                };                });            </script>        </div>"
      ]
     },
     "metadata": {},
     "output_type": "display_data"
    }
   ],
   "source": [
    "fig = BaseFigure()\n",
    "\n",
    "BLACK = Color.Hex(\"212121\")\n",
    "@dataclass\n",
    "class An:\n",
    "    desc: str\n",
    "    location: int # nucleotide location in k12 ref\n",
    "    rad_start: float = 0\n",
    "    rad_end: float = 0.1\n",
    "    fontsize: int = 12\n",
    "    color: XColor = BLACK\n",
    "    dx: float=0\n",
    "    dy: float=0\n",
    "\n",
    "    def GetAngle(self):\n",
    "        # loc = self.location + k12toEpi300 - loc_oriC\n",
    "        loc = self.location - loc_oriC\n",
    "        while loc < 0: loc += genome_length\n",
    "        while loc > genome_length: loc -= genome_length\n",
    "        angle = loc/genome_length * 2*np.pi\n",
    "        return angle\n",
    "\n",
    "def get_loc(genes):\n",
    "    locs = [cds_locations[g] for g in genes]\n",
    "    return ExactPosition(sum(locs)/len(locs))\n",
    "\n",
    "nudges = {\n",
    "    \"φ80dlacZΔM15<br>ΔlacX74\": (-0.02, -0.02),\n",
    "    \"galU\": (0, +0.01),\n",
    "}\n",
    "\n",
    "# F- mcrA Δ(mrr-hsdRMS-mcrBC) φ80dlacZΔM15 ΔlacX74 recA1 endA1 araD139 Δ(ara, leu)7697 galU galK λ- rpsL nupG trfA DHFR\n",
    "r_offset = 0.1\n",
    "annotations: list[An] = [\n",
    "    An(name, get_loc(ks)) for ks, name in [\n",
    "        ([\"yajD\"],          \"mcrA\"),\n",
    "        ([\"opgB\", \"nanC\"],  \"Δ(mrr-hsdRMS-mcrBC)\"),\n",
    "        ([\"lacZ\"],          \"φ80dlacZΔM15<br>ΔlacX74\"),\n",
    "        ([\"recA\"],          \"recA1\"),\n",
    "        ([\"endA\", \"nupG\"],  \"endA1<br>nupG\"),\n",
    "        ([\"folA\"],          \"DHFR (folA)<br>araD139<br>Δ(ara, leu)7697\"),\n",
    "        ([\"galU\"],          \"galU\"),\n",
    "        ([\"galK\"],          \"galK\"),\n",
    "        ([\"rpsL\"],          \"rpsL\"),\n",
    "        ([\"trfA\"],          \"trfA\"),\n",
    "    ]\n",
    "] + [\n",
    "    An(\"\", l, rad_end=-0.03, color=COLORS.RED) for l, ns in rrna_annots\n",
    "] + [\n",
    "    An(\"\", l, rad_end=-0.03, color=COLORS.RED) for l, ns in rrna_annots\n",
    "]\n",
    "\n",
    "for a in annotations:\n",
    "    if a.desc in nudges:\n",
    "        x, y = nudges[a.desc]\n",
    "        a.dx = x\n",
    "        a.dy = y\n",
    "\n",
    "root = Canvas()\n",
    "text = TextPlotter(fig)\n",
    "panel = root.NewPanel(Transform(sx=8/6))\n",
    "def text_xy(x, y):\n",
    "    return panel.ApplyTransforms(np.array([[x, y]]))[0]\n",
    "brush_main = Brush(BLACK)\n",
    "\n",
    "rad_chr = 1/4\n",
    "\n",
    "triangle_w = 0.02\n",
    "brush_main._pts.append(np.array([\n",
    "    [0, rad_chr],\n",
    "    [0+triangle_w/2, rad_chr+triangle_w],\n",
    "    [0-triangle_w/2, rad_chr+triangle_w],\n",
    "]))\n",
    "brush_main._cmds.append(\"MLL\")\n",
    "x, y = text_xy(0, rad_chr+triangle_w)\n",
    "text.Write(\"oriC\", x, y, size=12, color=BLACK.color_value, yanchor=\"bottom\")\n",
    "\n",
    "brush_main.EllipticalArc(x_rad=rad_chr, end_angle=2*np.pi, width=0.005)\n",
    "brushes: dict[str, Brush] = {}\n",
    "for a in annotations:\n",
    "    c = a.color\n",
    "    k =  str(c)\n",
    "    if k in brushes: continue\n",
    "    brushes[k] = Brush(c)\n",
    "\n",
    "for a in annotations:\n",
    "    l_start = rad_chr + a.rad_start\n",
    "    l_end = rad_chr + a.rad_end\n",
    "    l_c = (l_start+l_end)/2\n",
    "    l_w = abs(l_end-l_start)\n",
    "    r = a.GetAngle()\n",
    "    x, y = to_cart(r, l_end)\n",
    "    x, y = text_xy(x, y)\n",
    "    left = x < 0\n",
    "    inside = a.rad_end < 0\n",
    "    aln = \"left\" if left == inside else \"right\"\n",
    "    text.Write(\n",
    "        a.desc, x+a.dx, y+0.015+a.dy, size=a.fontsize, color=BLACK.color_value,\n",
    "        xanchor=aln, yanchor=\"top\",\n",
    "        align=aln,\n",
    "    )\n",
    "\n",
    "    b = brushes[str(a.color)]\n",
    "    b.EllipticalArc(\n",
    "        x_rad=l_c,\n",
    "        start_angle=r,\n",
    "        end_angle=r+0.005,\n",
    "        width=l_w,\n",
    "    )\n",
    "\n",
    "panel.AddElement(brush_main)\n",
    "for b in brushes.values():\n",
    "    panel.AddElement(b)\n",
    "\n",
    "fig = root.Render(fig=fig, debug=False)\n",
    "da = dict(showticklabels=False, ticks=None, linecolor=COLORS.TRANSPARENT)\n",
    "W, H = 800, 600\n",
    "fig = ApplyTemplate(\n",
    "    fig, \n",
    "    default_xaxis=da, default_yaxis=da,\n",
    "    layout=dict(\n",
    "        font=dict(\n",
    "            family=\"Arial\",\n",
    "        ),\n",
    "        width=W, height=H,\n",
    "    ),\n",
    ")\n",
    "fig.write_image(ws/\"epi300_genotype.svg\")\n",
    "fig.show(config=dict(\n",
    "    scrollZoom=False\n",
    "))"
   ]
  }
 ],
 "metadata": {
  "kernelspec": {
   "display_name": "p312",
   "language": "python",
   "name": "python3"
  },
  "language_info": {
   "codemirror_mode": {
    "name": "ipython",
    "version": 3
   },
   "file_extension": ".py",
   "mimetype": "text/x-python",
   "name": "python",
   "nbconvert_exporter": "python",
   "pygments_lexer": "ipython3",
   "version": "3.12.2"
  }
 },
 "nbformat": 4,
 "nbformat_minor": 2
}
